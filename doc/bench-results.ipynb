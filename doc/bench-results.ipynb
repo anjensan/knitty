{
 "cells": [
  {
   "cell_type": "code",
   "execution_count": 1,
   "id": "342124e3",
   "metadata": {},
   "outputs": [
    {
     "data": {
      "text/html": [
       ":ok"
      ]
     },
     "execution_count": 1,
     "metadata": {},
     "output_type": "execute_result"
    }
   ],
   "source": [
    "(require '[clojupyter.misc.helper :as helper])\n",
    "(helper/add-dependencies '[criterium/criterium \"0.4.6\"])\n",
    "(helper/add-dependencies '[metasoarous/oz \"1.5.6\"])\n",
    "\n",
    "(require '[clojupyter.display :as display])\n",
    "(require '[clojure.string :as str])\n",
    "(require '[oz.notebook.clojupyter :as oz])\n",
    ":ok"
   ]
  },
  {
   "cell_type": "code",
   "execution_count": 2,
   "id": "6295c453",
   "metadata": {},
   "outputs": [
    {
     "data": {
      "text/plain": [
       "#'user/bench-result-filename"
      ]
     },
     "execution_count": 2,
     "metadata": {},
     "output_type": "execute_result"
    }
   ],
   "source": [
    ";; Load results after running:\n",
    ";; lein test knitty.bench.deferred :benchmark\n",
    "(def bench-result-filename  \"/home/szopolis/work/knitty/.bench-results/250920-01:08:21.edn\")"
   ]
  },
  {
   "cell_type": "code",
   "execution_count": 3,
   "id": "31db06ea",
   "metadata": {},
   "outputs": [
    {
     "data": {
      "text/plain": [
       "#'user/br"
      ]
     },
     "execution_count": 3,
     "metadata": {},
     "output_type": "execute_result"
    }
   ],
   "source": [
    "(require 'criterium.core)  ;; required to read tagged structs\n",
    "(def br (-> (slurp bench-result-filename) (read-string)))"
   ]
  },
  {
   "cell_type": "code",
   "execution_count": 4,
   "id": "bceae8bd",
   "metadata": {},
   "outputs": [
    {
     "data": {
      "text/plain": [
       "#'user/infer-kt-vs-md-category"
      ]
     },
     "execution_count": 4,
     "metadata": {},
     "output_type": "execute_result"
    }
   ],
   "source": [
    "(defn infer-kt-vs-md-category [test-id]\n",
    "  (let [s (set test-id)\n",
    "        kt? (s :kt)\n",
    "        md? (s :md)\n",
    "        knitty? (s :knitty)\n",
    "        manifold? (s :manifold)]\n",
    "    [(vec (remove #{:kt :md :knitty :manifold} test-id))\n",
    "     (cond\n",
    "       (and knitty? md?) :knitty-md       ;; knitty functions, but md deferreds\n",
    "       (and manifold? kt?) :manifold-kt   ;; manifold functions, but knitty deferreds\n",
    "       knitty? :knitty\n",
    "       manifold? :manifold)]))"
   ]
  },
  {
   "cell_type": "code",
   "execution_count": 5,
   "id": "6b058889",
   "metadata": {},
   "outputs": [
    {
     "data": {
      "text/plain": [
       "#'user/gdata"
      ]
     },
     "execution_count": 5,
     "metadata": {},
     "output_type": "execute_result"
    }
   ],
   "source": [
    "(def gdata\n",
    "  (for [r (:results br)\n",
    "        :let [[ti cat] (infer-kt-vs-md-category (-> r :test-id))]]\n",
    "    {:full_test_id ti\n",
    "     :test (first ti)\n",
    "     :mode (let [s (set ti)]\n",
    "               (cond\n",
    "                 (s :defer) :async\n",
    "                 (s :value) :sync))\n",
    "     :subtest (last ti)\n",
    "     :category cat\n",
    "     :value (-> r :mean first)\n",
    "    }\n",
    "  ))"
   ]
  },
  {
   "cell_type": "code",
   "execution_count": 6,
   "id": "0499e964",
   "metadata": {},
   "outputs": [
    {
     "data": {
      "text/plain": [
       "#'user/render-test-result"
      ]
     },
     "execution_count": 6,
     "metadata": {},
     "output_type": "execute_result"
    }
   ],
   "source": [
    "(defn render-test-result [t vs]\n",
    "  (display/display\n",
    "   (display/render-mime\n",
    "    :application/vnd.vegalite.v5+json\n",
    "    {:title t\n",
    "     :data {:values vs}\n",
    "     :mark :bar\n",
    "     :encoding {:x {:field :subtest, :sort nil}\n",
    "                :y {:field :value :type :quantitative}\n",
    "                :color {:field :category :type :nominal}\n",
    "                :xOffset {:field :category,\n",
    "                          :sort [:knitty :knitty-md :manifold-kt :manifold]}}})))"
   ]
  },
  {
   "cell_type": "code",
   "execution_count": 7,
   "id": "41cb4ee9",
   "metadata": {},
   "outputs": [
    {
     "data": {
      "application/vnd.vegalite.v5+json": {
       "data": {
        "values": [
         {
          "category": "manifold",
          "full_test_id": [
           "bench-deferred",
           "create"
          ],
          "mode": null,
          "subtest": "create",
          "test": "bench-deferred",
          "value": 4.975508478319794e-09
         },
         {
          "category": "manifold",
          "full_test_id": [
           "bench-deferred",
           "listener"
          ],
          "mode": null,
          "subtest": "listener",
          "test": "bench-deferred",
          "value": 3.7742523275091134e-08
         },
         {
          "category": "manifold",
          "full_test_id": [
           "bench-deferred",
           "add-listener-3"
          ],
          "mode": null,
          "subtest": "add-listener-3",
          "test": "bench-deferred",
          "value": 6.751588462322318e-08
         },
         {
          "category": "manifold",
          "full_test_id": [
           "bench-deferred",
           "suc-add-listener"
          ],
          "mode": null,
          "subtest": "suc-add-listener",
          "test": "bench-deferred",
          "value": 4.5436795487318015e-08
         },
         {
          "category": "manifold",
          "full_test_id": [
           "bench-deferred",
           "success-get"
          ],
          "mode": null,
          "subtest": "success-get",
          "test": "bench-deferred",
          "value": 3.037007527498103e-08
         },
         {
          "category": "manifold",
          "full_test_id": [
           "bench-deferred",
           "success-deref"
          ],
          "mode": null,
          "subtest": "success-deref",
          "test": "bench-deferred",
          "value": 3.572730075951687e-08
         },
         {
          "category": "manifold",
          "full_test_id": [
           "bench-deferred",
           "success-kdpeel"
          ],
          "mode": null,
          "subtest": "success-kdpeel",
          "test": "bench-deferred",
          "value": 3.295540304340606e-08
         },
         {
          "category": "knitty",
          "full_test_id": [
           "bench-deferred",
           "create"
          ],
          "mode": null,
          "subtest": "create",
          "test": "bench-deferred",
          "value": 2.5683504744943973e-09
         },
         {
          "category": "knitty",
          "full_test_id": [
           "bench-deferred",
           "listener"
          ],
          "mode": null,
          "subtest": "listener",
          "test": "bench-deferred",
          "value": 1.1566937144189118e-08
         },
         {
          "category": "knitty",
          "full_test_id": [
           "bench-deferred",
           "add-listener-3"
          ],
          "mode": null,
          "subtest": "add-listener-3",
          "test": "bench-deferred",
          "value": 2.1901950244943466e-08
         },
         {
          "category": "knitty",
          "full_test_id": [
           "bench-deferred",
           "suc-add-listener"
          ],
          "mode": null,
          "subtest": "suc-add-listener",
          "test": "bench-deferred",
          "value": 1.06145131519026e-08
         },
         {
          "category": "knitty",
          "full_test_id": [
           "bench-deferred",
           "success-get"
          ],
          "mode": null,
          "subtest": "success-get",
          "test": "bench-deferred",
          "value": 8.87808178820143e-09
         },
         {
          "category": "knitty",
          "full_test_id": [
           "bench-deferred",
           "success-deref"
          ],
          "mode": null,
          "subtest": "success-deref",
          "test": "bench-deferred",
          "value": 9.141475018942047e-09
         },
         {
          "category": "knitty",
          "full_test_id": [
           "bench-deferred",
           "success-kdpeel"
          ],
          "mode": null,
          "subtest": "success-kdpeel",
          "test": "bench-deferred",
          "value": 8.875350684889176e-09
         }
        ]
       },
       "encoding": {
        "color": {
         "field": "category",
         "type": "nominal"
        },
        "x": {
         "field": "subtest",
         "sort": null
        },
        "xOffset": {
         "field": "category",
         "sort": [
          "knitty",
          "knitty-md",
          "manifold-kt",
          "manifold"
         ]
        },
        "y": {
         "field": "value",
         "type": "quantitative"
        }
       },
       "mark": "bar",
       "title": "Deferred basics"
      },
      "image/png": "[encoded data removed]"
     },
     "metadata": {},
     "output_type": "display_data"
    },
    {
     "data": {
      "text/html": [
       ":ok"
      ]
     },
     "execution_count": 7,
     "metadata": {},
     "output_type": "execute_result"
    }
   ],
   "source": [
    "(render-test-result\n",
    " \"Deferred basics\"\n",
    " (filter #(and (= \"bench-deferred\" (:test %))\n",
    "               (not= :add-listener-10 (:subtest %)) ;; hide 2 tests (too big value)\n",
    "               (not= :add-listener-33 (:subtest %))\n",
    "               )\n",
    "         gdata))"
   ]
  },
  {
   "cell_type": "code",
   "execution_count": 8,
   "id": "3606713f",
   "metadata": {},
   "outputs": [
    {
     "data": {
      "text/html": [
       "<h3>test: benchmark-chain-err</h3>"
      ]
     },
     "metadata": {},
     "output_type": "display_data"
    },
    {
     "data": {
      "application/vnd.vegalite.v5+json": {
       "data": {
        "values": [
         {
          "category": "manifold-kt",
          "full_test_id": [
           "benchmark-chain-err",
           "value",
           "chain-err1"
          ],
          "mode": "sync",
          "subtest": "chain-err1",
          "test": "benchmark-chain-err",
          "value": 3.605030602647661e-07
         },
         {
          "category": "manifold-kt",
          "full_test_id": [
           "benchmark-chain-err",
           "value",
           "chain-err5"
          ],
          "mode": "sync",
          "subtest": "chain-err5",
          "test": "benchmark-chain-err",
          "value": 1.4964464760565363e-06
         },
         {
          "category": "knitty",
          "full_test_id": [
           "benchmark-chain-err",
           "value",
           "chain-err1"
          ],
          "mode": "sync",
          "subtest": "chain-err1",
          "test": "benchmark-chain-err",
          "value": 5.2778577598154094e-08
         },
         {
          "category": "knitty",
          "full_test_id": [
           "benchmark-chain-err",
           "value",
           "chain-err5"
          ],
          "mode": "sync",
          "subtest": "chain-err5",
          "test": "benchmark-chain-err",
          "value": 2.19973237196088e-07
         },
         {
          "category": "manifold",
          "full_test_id": [
           "benchmark-chain-err",
           "value",
           "chain-err1"
          ],
          "mode": "sync",
          "subtest": "chain-err1",
          "test": "benchmark-chain-err",
          "value": 3.7007232335662484e-07
         },
         {
          "category": "manifold",
          "full_test_id": [
           "benchmark-chain-err",
           "value",
           "chain-err5"
          ],
          "mode": "sync",
          "subtest": "chain-err5",
          "test": "benchmark-chain-err",
          "value": 1.4454727615541876e-06
         },
         {
          "category": "knitty-md",
          "full_test_id": [
           "benchmark-chain-err",
           "value",
           "chain-err1"
          ],
          "mode": "sync",
          "subtest": "chain-err1",
          "test": "benchmark-chain-err",
          "value": 4.838401162174842e-08
         },
         {
          "category": "knitty-md",
          "full_test_id": [
           "benchmark-chain-err",
           "value",
           "chain-err5"
          ],
          "mode": "sync",
          "subtest": "chain-err5",
          "test": "benchmark-chain-err",
          "value": 2.067644395318468e-07
         }
        ]
       },
       "encoding": {
        "color": {
         "field": "category",
         "type": "nominal"
        },
        "x": {
         "field": "subtest",
         "sort": null
        },
        "xOffset": {
         "field": "category",
         "sort": [
          "knitty",
          "knitty-md",
          "manifold-kt",
          "manifold"
         ]
        },
        "y": {
         "field": "value",
         "type": "quantitative"
        }
       },
       "mark": "bar",
       "title": "benchmark-chain-err :sync"
      },
      "image/png": "[encoded data removed]"
     },
     "metadata": {},
     "output_type": "display_data"
    },
    {
     "data": {
      "application/vnd.vegalite.v5+json": {
       "data": {
        "values": [
         {
          "category": "manifold-kt",
          "full_test_id": [
           "benchmark-chain-err",
           "defer",
           "chain-err1"
          ],
          "mode": "async",
          "subtest": "chain-err1",
          "test": "benchmark-chain-err",
          "value": 2.696688074527835e-07
         },
         {
          "category": "manifold-kt",
          "full_test_id": [
           "benchmark-chain-err",
           "defer",
           "chain-err5"
          ],
          "mode": "async",
          "subtest": "chain-err5",
          "test": "benchmark-chain-err",
          "value": 2.2159708183454237e-06
         },
         {
          "category": "knitty",
          "full_test_id": [
           "benchmark-chain-err",
           "defer",
           "chain-err1"
          ],
          "mode": "async",
          "subtest": "chain-err1",
          "test": "benchmark-chain-err",
          "value": 1.982124412593455e-07
         },
         {
          "category": "knitty",
          "full_test_id": [
           "benchmark-chain-err",
           "defer",
           "chain-err5"
          ],
          "mode": "async",
          "subtest": "chain-err5",
          "test": "benchmark-chain-err",
          "value": 5.289286240754425e-07
         },
         {
          "category": "manifold",
          "full_test_id": [
           "benchmark-chain-err",
           "defer",
           "chain-err1"
          ],
          "mode": "async",
          "subtest": "chain-err1",
          "test": "benchmark-chain-err",
          "value": 2.697512329389883e-07
         },
         {
          "category": "manifold",
          "full_test_id": [
           "benchmark-chain-err",
           "defer",
           "chain-err5"
          ],
          "mode": "async",
          "subtest": "chain-err5",
          "test": "benchmark-chain-err",
          "value": 2.1103804880246793e-06
         },
         {
          "category": "knitty-md",
          "full_test_id": [
           "benchmark-chain-err",
           "defer",
           "chain-err1"
          ],
          "mode": "async",
          "subtest": "chain-err1",
          "test": "benchmark-chain-err",
          "value": 2.3697265658551942e-07
         },
         {
          "category": "knitty-md",
          "full_test_id": [
           "benchmark-chain-err",
           "defer",
           "chain-err5"
          ],
          "mode": "async",
          "subtest": "chain-err5",
          "test": "benchmark-chain-err",
          "value": 6.290872538547932e-07
         }
        ]
       },
       "encoding": {
        "color": {
         "field": "category",
         "type": "nominal"
        },
        "x": {
         "field": "subtest",
         "sort": null
        },
        "xOffset": {
         "field": "category",
         "sort": [
          "knitty",
          "knitty-md",
          "manifold-kt",
          "manifold"
         ]
        },
        "y": {
         "field": "value",
         "type": "quantitative"
        }
       },
       "mark": "bar",
       "title": "benchmark-chain-err :async"
      },
      "image/png": "[encoded data removed]"
     },
     "metadata": {},
     "output_type": "display_data"
    },
    {
     "data": {
      "text/html": [
       "<h3>test: benchmark-alt</h3>"
      ]
     },
     "metadata": {},
     "output_type": "display_data"
    },
    {
     "data": {
      "application/vnd.vegalite.v5+json": {
       "data": {
        "values": [
         {
          "category": "manifold-kt",
          "full_test_id": [
           "benchmark-alt",
           "value",
           "alt-2"
          ],
          "mode": "sync",
          "subtest": "alt-2",
          "test": "benchmark-alt",
          "value": 1.0305105355748424e-07
         },
         {
          "category": "manifold-kt",
          "full_test_id": [
           "benchmark-alt",
           "value",
           "alt-3"
          ],
          "mode": "sync",
          "subtest": "alt-3",
          "test": "benchmark-alt",
          "value": 1.330137907582354e-07
         },
         {
          "category": "manifold-kt",
          "full_test_id": [
           "benchmark-alt",
           "value",
           "alt-10"
          ],
          "mode": "sync",
          "subtest": "alt-10",
          "test": "benchmark-alt",
          "value": 2.954666688894684e-07
         },
         {
          "category": "knitty",
          "full_test_id": [
           "benchmark-alt",
           "value",
           "alt-2"
          ],
          "mode": "sync",
          "subtest": "alt-2",
          "test": "benchmark-alt",
          "value": 2.5207732610857143e-08
         },
         {
          "category": "knitty",
          "full_test_id": [
           "benchmark-alt",
           "value",
           "alt-3"
          ],
          "mode": "sync",
          "subtest": "alt-3",
          "test": "benchmark-alt",
          "value": 3.5172270159367865e-08
         },
         {
          "category": "knitty",
          "full_test_id": [
           "benchmark-alt",
           "value",
           "alt-10"
          ],
          "mode": "sync",
          "subtest": "alt-10",
          "test": "benchmark-alt",
          "value": 1.441856513924268e-07
         },
         {
          "category": "manifold",
          "full_test_id": [
           "benchmark-alt",
           "value",
           "alt-2"
          ],
          "mode": "sync",
          "subtest": "alt-2",
          "test": "benchmark-alt",
          "value": 9.193074649066428e-08
         },
         {
          "category": "manifold",
          "full_test_id": [
           "benchmark-alt",
           "value",
           "alt-3"
          ],
          "mode": "sync",
          "subtest": "alt-3",
          "test": "benchmark-alt",
          "value": 1.1848509194842974e-07
         },
         {
          "category": "manifold",
          "full_test_id": [
           "benchmark-alt",
           "value",
           "alt-10"
          ],
          "mode": "sync",
          "subtest": "alt-10",
          "test": "benchmark-alt",
          "value": 2.81943030780228e-07
         },
         {
          "category": "knitty-md",
          "full_test_id": [
           "benchmark-alt",
           "value",
           "alt-2"
          ],
          "mode": "sync",
          "subtest": "alt-2",
          "test": "benchmark-alt",
          "value": 2.5317466840927822e-08
         },
         {
          "category": "knitty-md",
          "full_test_id": [
           "benchmark-alt",
           "value",
           "alt-3"
          ],
          "mode": "sync",
          "subtest": "alt-3",
          "test": "benchmark-alt",
          "value": 2.5942133665118366e-08
         },
         {
          "category": "knitty-md",
          "full_test_id": [
           "benchmark-alt",
           "value",
           "alt-10"
          ],
          "mode": "sync",
          "subtest": "alt-10",
          "test": "benchmark-alt",
          "value": 1.346874863322088e-07
         }
        ]
       },
       "encoding": {
        "color": {
         "field": "category",
         "type": "nominal"
        },
        "x": {
         "field": "subtest",
         "sort": null
        },
        "xOffset": {
         "field": "category",
         "sort": [
          "knitty",
          "knitty-md",
          "manifold-kt",
          "manifold"
         ]
        },
        "y": {
         "field": "value",
         "type": "quantitative"
        }
       },
       "mark": "bar",
       "title": "benchmark-alt :sync"
      },
      "image/png": "[encoded data removed]"
     },
     "metadata": {},
     "output_type": "display_data"
    },
    {
     "data": {
      "application/vnd.vegalite.v5+json": {
       "data": {
        "values": [
         {
          "category": "manifold-kt",
          "full_test_id": [
           "benchmark-alt",
           "defer",
           "alt-2"
          ],
          "mode": "async",
          "subtest": "alt-2",
          "test": "benchmark-alt",
          "value": 3.667512479273687e-07
         },
         {
          "category": "manifold-kt",
          "full_test_id": [
           "benchmark-alt",
           "defer",
           "alt-3"
          ],
          "mode": "async",
          "subtest": "alt-3",
          "test": "benchmark-alt",
          "value": 5.3946228086801e-07
         },
         {
          "category": "manifold-kt",
          "full_test_id": [
           "benchmark-alt",
           "defer",
           "alt-10"
          ],
          "mode": "async",
          "subtest": "alt-10",
          "test": "benchmark-alt",
          "value": 2.0196690349330496e-06
         },
         {
          "category": "knitty",
          "full_test_id": [
           "benchmark-alt",
           "defer",
           "alt-2"
          ],
          "mode": "async",
          "subtest": "alt-2",
          "test": "benchmark-alt",
          "value": 9.22921779860078e-08
         },
         {
          "category": "knitty",
          "full_test_id": [
           "benchmark-alt",
           "defer",
           "alt-3"
          ],
          "mode": "async",
          "subtest": "alt-3",
          "test": "benchmark-alt",
          "value": 1.727767484071319e-07
         },
         {
          "category": "knitty",
          "full_test_id": [
           "benchmark-alt",
           "defer",
           "alt-10"
          ],
          "mode": "async",
          "subtest": "alt-10",
          "test": "benchmark-alt",
          "value": 5.963263190620483e-07
         },
         {
          "category": "manifold",
          "full_test_id": [
           "benchmark-alt",
           "defer",
           "alt-2"
          ],
          "mode": "async",
          "subtest": "alt-2",
          "test": "benchmark-alt",
          "value": 4.840609020935373e-07
         },
         {
          "category": "manifold",
          "full_test_id": [
           "benchmark-alt",
           "defer",
           "alt-3"
          ],
          "mode": "async",
          "subtest": "alt-3",
          "test": "benchmark-alt",
          "value": 7.208142275549996e-07
         },
         {
          "category": "manifold",
          "full_test_id": [
           "benchmark-alt",
           "defer",
           "alt-10"
          ],
          "mode": "async",
          "subtest": "alt-10",
          "test": "benchmark-alt",
          "value": 2.4603089197231483e-06
         },
         {
          "category": "knitty-md",
          "full_test_id": [
           "benchmark-alt",
           "defer",
           "alt-2"
          ],
          "mode": "async",
          "subtest": "alt-2",
          "test": "benchmark-alt",
          "value": 1.882368909409339e-07
         },
         {
          "category": "knitty-md",
          "full_test_id": [
           "benchmark-alt",
           "defer",
           "alt-3"
          ],
          "mode": "async",
          "subtest": "alt-3",
          "test": "benchmark-alt",
          "value": 3.219743949159713e-07
         },
         {
          "category": "knitty-md",
          "full_test_id": [
           "benchmark-alt",
           "defer",
           "alt-10"
          ],
          "mode": "async",
          "subtest": "alt-10",
          "test": "benchmark-alt",
          "value": 1.113243485091962e-06
         }
        ]
       },
       "encoding": {
        "color": {
         "field": "category",
         "type": "nominal"
        },
        "x": {
         "field": "subtest",
         "sort": null
        },
        "xOffset": {
         "field": "category",
         "sort": [
          "knitty",
          "knitty-md",
          "manifold-kt",
          "manifold"
         ]
        },
        "y": {
         "field": "value",
         "type": "quantitative"
        }
       },
       "mark": "bar",
       "title": "benchmark-alt :async"
      },
      "image/png": "[encoded data removed]"
     },
     "metadata": {},
     "output_type": "display_data"
    },
    {
     "data": {
      "text/html": [
       "<h3>test: benchmark-zip-list</h3>"
      ]
     },
     "metadata": {},
     "output_type": "display_data"
    },
    {
     "data": {
      "application/vnd.vegalite.v5+json": {
       "data": {
        "values": [
         {
          "category": "manifold-kt",
          "full_test_id": [
           "benchmark-zip-list",
           "value",
           "zip-50"
          ],
          "mode": "sync",
          "subtest": "zip-50",
          "test": "benchmark-zip-list",
          "value": 1.119163668720929e-06
         },
         {
          "category": "manifold-kt",
          "full_test_id": [
           "benchmark-zip-list",
           "value",
           "zip-500"
          ],
          "mode": "sync",
          "subtest": "zip-500",
          "test": "benchmark-zip-list",
          "value": 1.0455419240938271e-05
         },
         {
          "category": "knitty",
          "full_test_id": [
           "benchmark-zip-list",
           "value",
           "zip-50"
          ],
          "mode": "sync",
          "subtest": "zip-50",
          "test": "benchmark-zip-list",
          "value": 9.45064404867645e-07
         },
         {
          "category": "knitty",
          "full_test_id": [
           "benchmark-zip-list",
           "value",
           "zip-500"
          ],
          "mode": "sync",
          "subtest": "zip-500",
          "test": "benchmark-zip-list",
          "value": 8.905598294470355e-06
         },
         {
          "category": "manifold",
          "full_test_id": [
           "benchmark-zip-list",
           "value",
           "zip-50"
          ],
          "mode": "sync",
          "subtest": "zip-50",
          "test": "benchmark-zip-list",
          "value": 1.213993782264638e-06
         },
         {
          "category": "manifold",
          "full_test_id": [
           "benchmark-zip-list",
           "value",
           "zip-500"
          ],
          "mode": "sync",
          "subtest": "zip-500",
          "test": "benchmark-zip-list",
          "value": 1.2048176465822868e-05
         },
         {
          "category": "knitty-md",
          "full_test_id": [
           "benchmark-zip-list",
           "value",
           "zip-50"
          ],
          "mode": "sync",
          "subtest": "zip-50",
          "test": "benchmark-zip-list",
          "value": 1.2332278895939731e-06
         },
         {
          "category": "knitty-md",
          "full_test_id": [
           "benchmark-zip-list",
           "value",
           "zip-500"
          ],
          "mode": "sync",
          "subtest": "zip-500",
          "test": "benchmark-zip-list",
          "value": 1.1746456501361224e-05
         }
        ]
       },
       "encoding": {
        "color": {
         "field": "category",
         "type": "nominal"
        },
        "x": {
         "field": "subtest",
         "sort": null
        },
        "xOffset": {
         "field": "category",
         "sort": [
          "knitty",
          "knitty-md",
          "manifold-kt",
          "manifold"
         ]
        },
        "y": {
         "field": "value",
         "type": "quantitative"
        }
       },
       "mark": "bar",
       "title": "benchmark-zip-list :sync"
      },
      "image/png": "[encoded data removed]"
     },
     "metadata": {},
     "output_type": "display_data"
    },
    {
     "data": {
      "application/vnd.vegalite.v5+json": {
       "data": {
        "values": [
         {
          "category": "manifold-kt",
          "full_test_id": [
           "benchmark-zip-list",
           "defer",
           "zip-50"
          ],
          "mode": "async",
          "subtest": "zip-50",
          "test": "benchmark-zip-list",
          "value": 1.0005086247844927e-05
         },
         {
          "category": "manifold-kt",
          "full_test_id": [
           "benchmark-zip-list",
           "defer",
           "zip-500"
          ],
          "mode": "async",
          "subtest": "zip-500",
          "test": "benchmark-zip-list",
          "value": 9.971459584423132e-05
         },
         {
          "category": "knitty",
          "full_test_id": [
           "benchmark-zip-list",
           "defer",
           "zip-50"
          ],
          "mode": "async",
          "subtest": "zip-50",
          "test": "benchmark-zip-list",
          "value": 6.105805219912805e-06
         },
         {
          "category": "knitty",
          "full_test_id": [
           "benchmark-zip-list",
           "defer",
           "zip-500"
          ],
          "mode": "async",
          "subtest": "zip-500",
          "test": "benchmark-zip-list",
          "value": 6.032095305409596e-05
         },
         {
          "category": "manifold",
          "full_test_id": [
           "benchmark-zip-list",
           "defer",
           "zip-50"
          ],
          "mode": "async",
          "subtest": "zip-50",
          "test": "benchmark-zip-list",
          "value": 1.1939086494720713e-05
         },
         {
          "category": "manifold",
          "full_test_id": [
           "benchmark-zip-list",
           "defer",
           "zip-500"
          ],
          "mode": "async",
          "subtest": "zip-500",
          "test": "benchmark-zip-list",
          "value": 0.00012080285553276215
         },
         {
          "category": "knitty-md",
          "full_test_id": [
           "benchmark-zip-list",
           "defer",
           "zip-50"
          ],
          "mode": "async",
          "subtest": "zip-50",
          "test": "benchmark-zip-list",
          "value": 9.41650276287142e-06
         },
         {
          "category": "knitty-md",
          "full_test_id": [
           "benchmark-zip-list",
           "defer",
           "zip-500"
          ],
          "mode": "async",
          "subtest": "zip-500",
          "test": "benchmark-zip-list",
          "value": 9.546820614219338e-05
         }
        ]
       },
       "encoding": {
        "color": {
         "field": "category",
         "type": "nominal"
        },
        "x": {
         "field": "subtest",
         "sort": null
        },
        "xOffset": {
         "field": "category",
         "sort": [
          "knitty",
          "knitty-md",
          "manifold-kt",
          "manifold"
         ]
        },
        "y": {
         "field": "value",
         "type": "quantitative"
        }
       },
       "mark": "bar",
       "title": "benchmark-zip-list :async"
      },
      "image/png": "[encoded data removed]"
     },
     "metadata": {},
     "output_type": "display_data"
    },
    {
     "data": {
      "text/html": [
       "<h3>test: benchmark-chain-in</h3>"
      ]
     },
     "metadata": {},
     "output_type": "display_data"
    },
    {
     "data": {
      "application/vnd.vegalite.v5+json": {
       "data": {
        "values": [
         {
          "category": "manifold-kt",
          "full_test_id": [
           "benchmark-chain-in",
           "value",
           "chain-in-x1"
          ],
          "mode": "sync",
          "subtest": "chain-in-x1",
          "test": "benchmark-chain-in",
          "value": 2.7201796779647432e-08
         },
         {
          "category": "manifold-kt",
          "full_test_id": [
           "benchmark-chain-in",
           "value",
           "chain-in-x2"
          ],
          "mode": "sync",
          "subtest": "chain-in-x2",
          "test": "benchmark-chain-in",
          "value": 4.935162885116955e-08
         },
         {
          "category": "manifold-kt",
          "full_test_id": [
           "benchmark-chain-in",
           "value",
           "chain-in-x3"
          ],
          "mode": "sync",
          "subtest": "chain-in-x3",
          "test": "benchmark-chain-in",
          "value": 6.692147783395894e-08
         },
         {
          "category": "manifold-kt",
          "full_test_id": [
           "benchmark-chain-in",
           "value",
           "chain-in-x5"
          ],
          "mode": "sync",
          "subtest": "chain-in-x5",
          "test": "benchmark-chain-in",
          "value": 1.0785789480456091e-07
         },
         {
          "category": "knitty",
          "full_test_id": [
           "benchmark-chain-in",
           "value",
           "chain-in-x1"
          ],
          "mode": "sync",
          "subtest": "chain-in-x1",
          "test": "benchmark-chain-in",
          "value": 7.591394145215567e-09
         },
         {
          "category": "knitty",
          "full_test_id": [
           "benchmark-chain-in",
           "value",
           "chain-in-x2"
          ],
          "mode": "sync",
          "subtest": "chain-in-x2",
          "test": "benchmark-chain-in",
          "value": 1.3027360160715125e-08
         },
         {
          "category": "knitty",
          "full_test_id": [
           "benchmark-chain-in",
           "value",
           "chain-in-x3"
          ],
          "mode": "sync",
          "subtest": "chain-in-x3",
          "test": "benchmark-chain-in",
          "value": 1.8691904932135345e-08
         },
         {
          "category": "knitty",
          "full_test_id": [
           "benchmark-chain-in",
           "value",
           "chain-in-x5"
          ],
          "mode": "sync",
          "subtest": "chain-in-x5",
          "test": "benchmark-chain-in",
          "value": 2.7109656911483524e-08
         },
         {
          "category": "manifold",
          "full_test_id": [
           "benchmark-chain-in",
           "value",
           "chain-in-x1"
          ],
          "mode": "sync",
          "subtest": "chain-in-x1",
          "test": "benchmark-chain-in",
          "value": 2.5601300714832702e-08
         },
         {
          "category": "manifold",
          "full_test_id": [
           "benchmark-chain-in",
           "value",
           "chain-in-x2"
          ],
          "mode": "sync",
          "subtest": "chain-in-x2",
          "test": "benchmark-chain-in",
          "value": 5.3818929991036914e-08
         },
         {
          "category": "manifold",
          "full_test_id": [
           "benchmark-chain-in",
           "value",
           "chain-in-x3"
          ],
          "mode": "sync",
          "subtest": "chain-in-x3",
          "test": "benchmark-chain-in",
          "value": 6.577512857566371e-08
         },
         {
          "category": "manifold",
          "full_test_id": [
           "benchmark-chain-in",
           "value",
           "chain-in-x5"
          ],
          "mode": "sync",
          "subtest": "chain-in-x5",
          "test": "benchmark-chain-in",
          "value": 9.943321008472894e-08
         },
         {
          "category": "knitty-md",
          "full_test_id": [
           "benchmark-chain-in",
           "value",
           "chain-in-x1"
          ],
          "mode": "sync",
          "subtest": "chain-in-x1",
          "test": "benchmark-chain-in",
          "value": 2.2242627326554246e-08
         },
         {
          "category": "knitty-md",
          "full_test_id": [
           "benchmark-chain-in",
           "value",
           "chain-in-x2"
          ],
          "mode": "sync",
          "subtest": "chain-in-x2",
          "test": "benchmark-chain-in",
          "value": 2.5809099747814755e-08
         },
         {
          "category": "knitty-md",
          "full_test_id": [
           "benchmark-chain-in",
           "value",
           "chain-in-x3"
          ],
          "mode": "sync",
          "subtest": "chain-in-x3",
          "test": "benchmark-chain-in",
          "value": 3.228305998532621e-08
         },
         {
          "category": "knitty-md",
          "full_test_id": [
           "benchmark-chain-in",
           "value",
           "chain-in-x5"
          ],
          "mode": "sync",
          "subtest": "chain-in-x5",
          "test": "benchmark-chain-in",
          "value": 5.692030828772843e-08
         }
        ]
       },
       "encoding": {
        "color": {
         "field": "category",
         "type": "nominal"
        },
        "x": {
         "field": "subtest",
         "sort": null
        },
        "xOffset": {
         "field": "category",
         "sort": [
          "knitty",
          "knitty-md",
          "manifold-kt",
          "manifold"
         ]
        },
        "y": {
         "field": "value",
         "type": "quantitative"
        }
       },
       "mark": "bar",
       "title": "benchmark-chain-in :sync"
      },
      "image/png": "[encoded data removed]"
     },
     "metadata": {},
     "output_type": "display_data"
    },
    {
     "data": {
      "application/vnd.vegalite.v5+json": {
       "data": {
        "values": [
         {
          "category": "manifold-kt",
          "full_test_id": [
           "benchmark-chain-in",
           "defer",
           "chain-in-x1"
          ],
          "mode": "async",
          "subtest": "chain-in-x1",
          "test": "benchmark-chain-in",
          "value": 1.3319967130088325e-07
         },
         {
          "category": "manifold-kt",
          "full_test_id": [
           "benchmark-chain-in",
           "defer",
           "chain-in-x2"
          ],
          "mode": "async",
          "subtest": "chain-in-x2",
          "test": "benchmark-chain-in",
          "value": 2.692261297648772e-07
         },
         {
          "category": "manifold-kt",
          "full_test_id": [
           "benchmark-chain-in",
           "defer",
           "chain-in-x3"
          ],
          "mode": "async",
          "subtest": "chain-in-x3",
          "test": "benchmark-chain-in",
          "value": 3.7327587073334854e-07
         },
         {
          "category": "manifold-kt",
          "full_test_id": [
           "benchmark-chain-in",
           "defer",
           "chain-in-x5"
          ],
          "mode": "async",
          "subtest": "chain-in-x5",
          "test": "benchmark-chain-in",
          "value": 6.270832779679723e-07
         },
         {
          "category": "knitty",
          "full_test_id": [
           "benchmark-chain-in",
           "defer",
           "chain-in-x1"
          ],
          "mode": "async",
          "subtest": "chain-in-x1",
          "test": "benchmark-chain-in",
          "value": 6.848416228140062e-08
         },
         {
          "category": "knitty",
          "full_test_id": [
           "benchmark-chain-in",
           "defer",
           "chain-in-x2"
          ],
          "mode": "async",
          "subtest": "chain-in-x2",
          "test": "benchmark-chain-in",
          "value": 1.0910766699975604e-07
         },
         {
          "category": "knitty",
          "full_test_id": [
           "benchmark-chain-in",
           "defer",
           "chain-in-x3"
          ],
          "mode": "async",
          "subtest": "chain-in-x3",
          "test": "benchmark-chain-in",
          "value": 1.4293423974541226e-07
         },
         {
          "category": "knitty",
          "full_test_id": [
           "benchmark-chain-in",
           "defer",
           "chain-in-x5"
          ],
          "mode": "async",
          "subtest": "chain-in-x5",
          "test": "benchmark-chain-in",
          "value": 2.659372303172423e-07
         },
         {
          "category": "manifold",
          "full_test_id": [
           "benchmark-chain-in",
           "defer",
           "chain-in-x1"
          ],
          "mode": "async",
          "subtest": "chain-in-x1",
          "test": "benchmark-chain-in",
          "value": 2.0529592029172496e-07
         },
         {
          "category": "manifold",
          "full_test_id": [
           "benchmark-chain-in",
           "defer",
           "chain-in-x2"
          ],
          "mode": "async",
          "subtest": "chain-in-x2",
          "test": "benchmark-chain-in",
          "value": 4.1170121364842857e-07
         },
         {
          "category": "manifold",
          "full_test_id": [
           "benchmark-chain-in",
           "defer",
           "chain-in-x3"
          ],
          "mode": "async",
          "subtest": "chain-in-x3",
          "test": "benchmark-chain-in",
          "value": 5.142855211636029e-07
         },
         {
          "category": "manifold",
          "full_test_id": [
           "benchmark-chain-in",
           "defer",
           "chain-in-x5"
          ],
          "mode": "async",
          "subtest": "chain-in-x5",
          "test": "benchmark-chain-in",
          "value": 8.579038454784623e-07
         },
         {
          "category": "knitty-md",
          "full_test_id": [
           "benchmark-chain-in",
           "defer",
           "chain-in-x1"
          ],
          "mode": "async",
          "subtest": "chain-in-x1",
          "test": "benchmark-chain-in",
          "value": 1.6794950890837317e-07
         },
         {
          "category": "knitty-md",
          "full_test_id": [
           "benchmark-chain-in",
           "defer",
           "chain-in-x2"
          ],
          "mode": "async",
          "subtest": "chain-in-x2",
          "test": "benchmark-chain-in",
          "value": 2.4583528201006537e-07
         },
         {
          "category": "knitty-md",
          "full_test_id": [
           "benchmark-chain-in",
           "defer",
           "chain-in-x3"
          ],
          "mode": "async",
          "subtest": "chain-in-x3",
          "test": "benchmark-chain-in",
          "value": 2.963716763995863e-07
         },
         {
          "category": "knitty-md",
          "full_test_id": [
           "benchmark-chain-in",
           "defer",
           "chain-in-x5"
          ],
          "mode": "async",
          "subtest": "chain-in-x5",
          "test": "benchmark-chain-in",
          "value": 5.08798931343935e-07
         }
        ]
       },
       "encoding": {
        "color": {
         "field": "category",
         "type": "nominal"
        },
        "x": {
         "field": "subtest",
         "sort": null
        },
        "xOffset": {
         "field": "category",
         "sort": [
          "knitty",
          "knitty-md",
          "manifold-kt",
          "manifold"
         ]
        },
        "y": {
         "field": "value",
         "type": "quantitative"
        }
       },
       "mark": "bar",
       "title": "benchmark-chain-in :async"
      },
      "image/png": "[encoded data removed]"
     },
     "metadata": {},
     "output_type": "display_data"
    },
    {
     "data": {
      "text/html": [
       "<h3>test: benchmark-loop</h3>"
      ]
     },
     "metadata": {},
     "output_type": "display_data"
    },
    {
     "data": {
      "application/vnd.vegalite.v5+json": {
       "data": {
        "values": [
         {
          "category": "manifold-kt",
          "full_test_id": [
           "benchmark-loop",
           "value",
           "loop100"
          ],
          "mode": "sync",
          "subtest": "loop100",
          "test": "benchmark-loop",
          "value": 3.960859903033186e-05
         },
         {
          "category": "knitty",
          "full_test_id": [
           "benchmark-loop",
           "value",
           "loop100"
          ],
          "mode": "sync",
          "subtest": "loop100",
          "test": "benchmark-loop",
          "value": 2.7450679401545287e-05
         },
         {
          "category": "manifold",
          "full_test_id": [
           "benchmark-loop",
           "value",
           "loop100"
          ],
          "mode": "sync",
          "subtest": "loop100",
          "test": "benchmark-loop",
          "value": 3.742526776171212e-05
         },
         {
          "category": "knitty-md",
          "full_test_id": [
           "benchmark-loop",
           "value",
           "loop100"
          ],
          "mode": "sync",
          "subtest": "loop100",
          "test": "benchmark-loop",
          "value": 3.266766817958944e-05
         }
        ]
       },
       "encoding": {
        "color": {
         "field": "category",
         "type": "nominal"
        },
        "x": {
         "field": "subtest",
         "sort": null
        },
        "xOffset": {
         "field": "category",
         "sort": [
          "knitty",
          "knitty-md",
          "manifold-kt",
          "manifold"
         ]
        },
        "y": {
         "field": "value",
         "type": "quantitative"
        }
       },
       "mark": "bar",
       "title": "benchmark-loop :sync"
      },
      "image/png": "[encoded data removed]"
     },
     "metadata": {},
     "output_type": "display_data"
    },
    {
     "data": {
      "application/vnd.vegalite.v5+json": {
       "data": {
        "values": [
         {
          "category": "manifold-kt",
          "full_test_id": [
           "benchmark-loop",
           "defer",
           "loop100"
          ],
          "mode": "async",
          "subtest": "loop100",
          "test": "benchmark-loop",
          "value": 0.0002801465153490328
         },
         {
          "category": "knitty",
          "full_test_id": [
           "benchmark-loop",
           "defer",
           "loop100"
          ],
          "mode": "async",
          "subtest": "loop100",
          "test": "benchmark-loop",
          "value": 7.286268929017237e-05
         },
         {
          "category": "manifold",
          "full_test_id": [
           "benchmark-loop",
           "defer",
           "loop100"
          ],
          "mode": "async",
          "subtest": "loop100",
          "test": "benchmark-loop",
          "value": 0.00030072585195371206
         },
         {
          "category": "knitty-md",
          "full_test_id": [
           "benchmark-loop",
           "defer",
           "loop100"
          ],
          "mode": "async",
          "subtest": "loop100",
          "test": "benchmark-loop",
          "value": 0.00012563781986695208
         }
        ]
       },
       "encoding": {
        "color": {
         "field": "category",
         "type": "nominal"
        },
        "x": {
         "field": "subtest",
         "sort": null
        },
        "xOffset": {
         "field": "category",
         "sort": [
          "knitty",
          "knitty-md",
          "manifold-kt",
          "manifold"
         ]
        },
        "y": {
         "field": "value",
         "type": "quantitative"
        }
       },
       "mark": "bar",
       "title": "benchmark-loop :async"
      },
      "image/png": "[encoded data removed]"
     },
     "metadata": {},
     "output_type": "display_data"
    },
    {
     "data": {
      "text/html": [
       "<h3>test: benchmark-chain</h3>"
      ]
     },
     "metadata": {},
     "output_type": "display_data"
    },
    {
     "data": {
      "application/vnd.vegalite.v5+json": {
       "data": {
        "values": [
         {
          "category": "manifold-kt",
          "full_test_id": [
           "benchmark-chain",
           "value",
           "chain-x1"
          ],
          "mode": "sync",
          "subtest": "chain-x1",
          "test": "benchmark-chain",
          "value": 1.7286964757538586e-08
         },
         {
          "category": "manifold-kt",
          "full_test_id": [
           "benchmark-chain",
           "value",
           "chain-x2"
          ],
          "mode": "sync",
          "subtest": "chain-x2",
          "test": "benchmark-chain",
          "value": 1.9315415153099287e-08
         },
         {
          "category": "manifold-kt",
          "full_test_id": [
           "benchmark-chain",
           "value",
           "chain-x3"
          ],
          "mode": "sync",
          "subtest": "chain-x3",
          "test": "benchmark-chain",
          "value": 2.032660775769914e-07
         },
         {
          "category": "manifold-kt",
          "full_test_id": [
           "benchmark-chain",
           "value",
           "chain-x5"
          ],
          "mode": "sync",
          "subtest": "chain-x5",
          "test": "benchmark-chain",
          "value": 2.324106771611203e-07
         },
         {
          "category": "knitty",
          "full_test_id": [
           "benchmark-chain",
           "value",
           "chain-x1"
          ],
          "mode": "sync",
          "subtest": "chain-x1",
          "test": "benchmark-chain",
          "value": 1.611296681850421e-08
         },
         {
          "category": "knitty",
          "full_test_id": [
           "benchmark-chain",
           "value",
           "chain-x2"
          ],
          "mode": "sync",
          "subtest": "chain-x2",
          "test": "benchmark-chain",
          "value": 1.6354281908168314e-08
         },
         {
          "category": "knitty",
          "full_test_id": [
           "benchmark-chain",
           "value",
           "chain-x3"
          ],
          "mode": "sync",
          "subtest": "chain-x3",
          "test": "benchmark-chain",
          "value": 2.2122762707894487e-08
         },
         {
          "category": "knitty",
          "full_test_id": [
           "benchmark-chain",
           "value",
           "chain-x5"
          ],
          "mode": "sync",
          "subtest": "chain-x5",
          "test": "benchmark-chain",
          "value": 3.039306561249823e-08
         },
         {
          "category": "manifold",
          "full_test_id": [
           "benchmark-chain",
           "value",
           "chain-x1"
          ],
          "mode": "sync",
          "subtest": "chain-x1",
          "test": "benchmark-chain",
          "value": 1.8431928449367952e-08
         },
         {
          "category": "manifold",
          "full_test_id": [
           "benchmark-chain",
           "value",
           "chain-x2"
          ],
          "mode": "sync",
          "subtest": "chain-x2",
          "test": "benchmark-chain",
          "value": 2.083807188039728e-08
         },
         {
          "category": "manifold",
          "full_test_id": [
           "benchmark-chain",
           "value",
           "chain-x3"
          ],
          "mode": "sync",
          "subtest": "chain-x3",
          "test": "benchmark-chain",
          "value": 1.9172232580161776e-07
         },
         {
          "category": "manifold",
          "full_test_id": [
           "benchmark-chain",
           "value",
           "chain-x5"
          ],
          "mode": "sync",
          "subtest": "chain-x5",
          "test": "benchmark-chain",
          "value": 2.4028980764111593e-07
         },
         {
          "category": "knitty-md",
          "full_test_id": [
           "benchmark-chain",
           "value",
           "chain-x1"
          ],
          "mode": "sync",
          "subtest": "chain-x1",
          "test": "benchmark-chain",
          "value": 1.8490631035840397e-08
         },
         {
          "category": "knitty-md",
          "full_test_id": [
           "benchmark-chain",
           "value",
           "chain-x2"
          ],
          "mode": "sync",
          "subtest": "chain-x2",
          "test": "benchmark-chain",
          "value": 1.898394143185921e-08
         },
         {
          "category": "knitty-md",
          "full_test_id": [
           "benchmark-chain",
           "value",
           "chain-x3"
          ],
          "mode": "sync",
          "subtest": "chain-x3",
          "test": "benchmark-chain",
          "value": 3.2826613092311205e-08
         },
         {
          "category": "knitty-md",
          "full_test_id": [
           "benchmark-chain",
           "value",
           "chain-x5"
          ],
          "mode": "sync",
          "subtest": "chain-x5",
          "test": "benchmark-chain",
          "value": 3.225574094148354e-08
         }
        ]
       },
       "encoding": {
        "color": {
         "field": "category",
         "type": "nominal"
        },
        "x": {
         "field": "subtest",
         "sort": null
        },
        "xOffset": {
         "field": "category",
         "sort": [
          "knitty",
          "knitty-md",
          "manifold-kt",
          "manifold"
         ]
        },
        "y": {
         "field": "value",
         "type": "quantitative"
        }
       },
       "mark": "bar",
       "title": "benchmark-chain :sync"
      },
      "image/png": "[encoded data removed]"
     },
     "metadata": {},
     "output_type": "display_data"
    },
    {
     "data": {
      "application/vnd.vegalite.v5+json": {
       "data": {
        "values": [
         {
          "category": "manifold-kt",
          "full_test_id": [
           "benchmark-chain",
           "defer",
           "chain-x1"
          ],
          "mode": "async",
          "subtest": "chain-x1",
          "test": "benchmark-chain",
          "value": 7.615550954697992e-08
         },
         {
          "category": "manifold-kt",
          "full_test_id": [
           "benchmark-chain",
           "defer",
           "chain-x2"
          ],
          "mode": "async",
          "subtest": "chain-x2",
          "test": "benchmark-chain",
          "value": 7.522645119088894e-08
         },
         {
          "category": "manifold-kt",
          "full_test_id": [
           "benchmark-chain",
           "defer",
           "chain-x3"
          ],
          "mode": "async",
          "subtest": "chain-x3",
          "test": "benchmark-chain",
          "value": 3.585701819797636e-07
         },
         {
          "category": "manifold-kt",
          "full_test_id": [
           "benchmark-chain",
           "defer",
           "chain-x5"
          ],
          "mode": "async",
          "subtest": "chain-x5",
          "test": "benchmark-chain",
          "value": 5.414666474389327e-07
         },
         {
          "category": "knitty",
          "full_test_id": [
           "benchmark-chain",
           "defer",
           "chain-x1"
          ],
          "mode": "async",
          "subtest": "chain-x1",
          "test": "benchmark-chain",
          "value": 3.9488027705918365e-08
         },
         {
          "category": "knitty",
          "full_test_id": [
           "benchmark-chain",
           "defer",
           "chain-x2"
          ],
          "mode": "async",
          "subtest": "chain-x2",
          "test": "benchmark-chain",
          "value": 5.357121529323861e-08
         },
         {
          "category": "knitty",
          "full_test_id": [
           "benchmark-chain",
           "defer",
           "chain-x3"
          ],
          "mode": "async",
          "subtest": "chain-x3",
          "test": "benchmark-chain",
          "value": 6.719380075457558e-08
         },
         {
          "category": "knitty",
          "full_test_id": [
           "benchmark-chain",
           "defer",
           "chain-x5"
          ],
          "mode": "async",
          "subtest": "chain-x5",
          "test": "benchmark-chain",
          "value": 9.700239865758859e-08
         },
         {
          "category": "manifold",
          "full_test_id": [
           "benchmark-chain",
           "defer",
           "chain-x1"
          ],
          "mode": "async",
          "subtest": "chain-x1",
          "test": "benchmark-chain",
          "value": 1.2935066721641288e-07
         },
         {
          "category": "manifold",
          "full_test_id": [
           "benchmark-chain",
           "defer",
           "chain-x2"
          ],
          "mode": "async",
          "subtest": "chain-x2",
          "test": "benchmark-chain",
          "value": 1.192874977132729e-07
         },
         {
          "category": "manifold",
          "full_test_id": [
           "benchmark-chain",
           "defer",
           "chain-x3"
          ],
          "mode": "async",
          "subtest": "chain-x3",
          "test": "benchmark-chain",
          "value": 4.029335926654133e-07
         },
         {
          "category": "manifold",
          "full_test_id": [
           "benchmark-chain",
           "defer",
           "chain-x5"
          ],
          "mode": "async",
          "subtest": "chain-x5",
          "test": "benchmark-chain",
          "value": 5.678954843944041e-07
         },
         {
          "category": "knitty-md",
          "full_test_id": [
           "benchmark-chain",
           "defer",
           "chain-x1"
          ],
          "mode": "async",
          "subtest": "chain-x1",
          "test": "benchmark-chain",
          "value": 8.702265673050617e-08
         },
         {
          "category": "knitty-md",
          "full_test_id": [
           "benchmark-chain",
           "defer",
           "chain-x2"
          ],
          "mode": "async",
          "subtest": "chain-x2",
          "test": "benchmark-chain",
          "value": 1.0265693157111917e-07
         },
         {
          "category": "knitty-md",
          "full_test_id": [
           "benchmark-chain",
           "defer",
           "chain-x3"
          ],
          "mode": "async",
          "subtest": "chain-x3",
          "test": "benchmark-chain",
          "value": 1.2173174395890812e-07
         },
         {
          "category": "knitty-md",
          "full_test_id": [
           "benchmark-chain",
           "defer",
           "chain-x5"
          ],
          "mode": "async",
          "subtest": "chain-x5",
          "test": "benchmark-chain",
          "value": 1.5244946914952019e-07
         }
        ]
       },
       "encoding": {
        "color": {
         "field": "category",
         "type": "nominal"
        },
        "x": {
         "field": "subtest",
         "sort": null
        },
        "xOffset": {
         "field": "category",
         "sort": [
          "knitty",
          "knitty-md",
          "manifold-kt",
          "manifold"
         ]
        },
        "y": {
         "field": "value",
         "type": "quantitative"
        }
       },
       "mark": "bar",
       "title": "benchmark-chain :async"
      },
      "image/png": "[encoded data removed]"
     },
     "metadata": {},
     "output_type": "display_data"
    },
    {
     "data": {
      "text/html": [
       "<h3>test: benchmark-zip</h3>"
      ]
     },
     "metadata": {},
     "output_type": "display_data"
    },
    {
     "data": {
      "application/vnd.vegalite.v5+json": {
       "data": {
        "values": [
         {
          "category": "manifold-kt",
          "full_test_id": [
           "benchmark-zip",
           "value",
           "zip-2"
          ],
          "mode": "sync",
          "subtest": "zip-2",
          "test": "benchmark-zip",
          "value": 9.53002485958572e-08
         },
         {
          "category": "manifold-kt",
          "full_test_id": [
           "benchmark-zip",
           "value",
           "zip-5"
          ],
          "mode": "sync",
          "subtest": "zip-5",
          "test": "benchmark-zip",
          "value": 1.7682122161484271e-07
         },
         {
          "category": "manifold-kt",
          "full_test_id": [
           "benchmark-zip",
           "value",
           "zip-10"
          ],
          "mode": "sync",
          "subtest": "zip-10",
          "test": "benchmark-zip",
          "value": 2.864008368062503e-07
         },
         {
          "category": "manifold-kt",
          "full_test_id": [
           "benchmark-zip",
           "value",
           "zip-25"
          ],
          "mode": "sync",
          "subtest": "zip-25",
          "test": "benchmark-zip",
          "value": 9.57315960171342e-07
         },
         {
          "category": "knitty",
          "full_test_id": [
           "benchmark-zip",
           "value",
           "zip-2"
          ],
          "mode": "sync",
          "subtest": "zip-2",
          "test": "benchmark-zip",
          "value": 2.4284473343788812e-08
         },
         {
          "category": "knitty",
          "full_test_id": [
           "benchmark-zip",
           "value",
           "zip-5"
          ],
          "mode": "sync",
          "subtest": "zip-5",
          "test": "benchmark-zip",
          "value": 3.581970464772343e-08
         },
         {
          "category": "knitty",
          "full_test_id": [
           "benchmark-zip",
           "value",
           "zip-10"
          ],
          "mode": "sync",
          "subtest": "zip-10",
          "test": "benchmark-zip",
          "value": 6.66075617848023e-08
         },
         {
          "category": "knitty",
          "full_test_id": [
           "benchmark-zip",
           "value",
           "zip-25"
          ],
          "mode": "sync",
          "subtest": "zip-25",
          "test": "benchmark-zip",
          "value": 6.971399603243922e-07
         },
         {
          "category": "manifold",
          "full_test_id": [
           "benchmark-zip",
           "value",
           "zip-2"
          ],
          "mode": "sync",
          "subtest": "zip-2",
          "test": "benchmark-zip",
          "value": 1.1301705143438469e-07
         },
         {
          "category": "manifold",
          "full_test_id": [
           "benchmark-zip",
           "value",
           "zip-5"
          ],
          "mode": "sync",
          "subtest": "zip-5",
          "test": "benchmark-zip",
          "value": 2.3389192351698915e-07
         },
         {
          "category": "manifold",
          "full_test_id": [
           "benchmark-zip",
           "value",
           "zip-10"
          ],
          "mode": "sync",
          "subtest": "zip-10",
          "test": "benchmark-zip",
          "value": 3.785282297082694e-07
         },
         {
          "category": "manifold",
          "full_test_id": [
           "benchmark-zip",
           "value",
           "zip-25"
          ],
          "mode": "sync",
          "subtest": "zip-25",
          "test": "benchmark-zip",
          "value": 9.981332894262227e-07
         },
         {
          "category": "knitty-md",
          "full_test_id": [
           "benchmark-zip",
           "value",
           "zip-2"
          ],
          "mode": "sync",
          "subtest": "zip-2",
          "test": "benchmark-zip",
          "value": 3.3559367867824685e-08
         },
         {
          "category": "knitty-md",
          "full_test_id": [
           "benchmark-zip",
           "value",
           "zip-5"
          ],
          "mode": "sync",
          "subtest": "zip-5",
          "test": "benchmark-zip",
          "value": 4.758384351946967e-08
         },
         {
          "category": "knitty-md",
          "full_test_id": [
           "benchmark-zip",
           "value",
           "zip-10"
          ],
          "mode": "sync",
          "subtest": "zip-10",
          "test": "benchmark-zip",
          "value": 1.349711791178844e-07
         },
         {
          "category": "knitty-md",
          "full_test_id": [
           "benchmark-zip",
           "value",
           "zip-25"
          ],
          "mode": "sync",
          "subtest": "zip-25",
          "test": "benchmark-zip",
          "value": 8.921902616180508e-07
         }
        ]
       },
       "encoding": {
        "color": {
         "field": "category",
         "type": "nominal"
        },
        "x": {
         "field": "subtest",
         "sort": null
        },
        "xOffset": {
         "field": "category",
         "sort": [
          "knitty",
          "knitty-md",
          "manifold-kt",
          "manifold"
         ]
        },
        "y": {
         "field": "value",
         "type": "quantitative"
        }
       },
       "mark": "bar",
       "title": "benchmark-zip :sync"
      },
      "image/png": "[encoded data removed]"
     },
     "metadata": {},
     "output_type": "display_data"
    },
    {
     "data": {
      "application/vnd.vegalite.v5+json": {
       "data": {
        "values": [
         {
          "category": "manifold-kt",
          "full_test_id": [
           "benchmark-zip",
           "defer",
           "zip-2"
          ],
          "mode": "async",
          "subtest": "zip-2",
          "test": "benchmark-zip",
          "value": 3.451956580702142e-07
         },
         {
          "category": "manifold-kt",
          "full_test_id": [
           "benchmark-zip",
           "defer",
           "zip-5"
          ],
          "mode": "async",
          "subtest": "zip-5",
          "test": "benchmark-zip",
          "value": 7.708383358087044e-07
         },
         {
          "category": "manifold-kt",
          "full_test_id": [
           "benchmark-zip",
           "defer",
           "zip-10"
          ],
          "mode": "async",
          "subtest": "zip-10",
          "test": "benchmark-zip",
          "value": 1.4471557905256663e-06
         },
         {
          "category": "manifold-kt",
          "full_test_id": [
           "benchmark-zip",
           "defer",
           "zip-25"
          ],
          "mode": "async",
          "subtest": "zip-25",
          "test": "benchmark-zip",
          "value": 3.931359134762202e-06
         },
         {
          "category": "knitty",
          "full_test_id": [
           "benchmark-zip",
           "defer",
           "zip-2"
          ],
          "mode": "async",
          "subtest": "zip-2",
          "test": "benchmark-zip",
          "value": 9.423388288296817e-08
         },
         {
          "category": "knitty",
          "full_test_id": [
           "benchmark-zip",
           "defer",
           "zip-5"
          ],
          "mode": "async",
          "subtest": "zip-5",
          "test": "benchmark-zip",
          "value": 2.3672456096890541e-07
         },
         {
          "category": "knitty",
          "full_test_id": [
           "benchmark-zip",
           "defer",
           "zip-10"
          ],
          "mode": "async",
          "subtest": "zip-10",
          "test": "benchmark-zip",
          "value": 5.092458417352776e-07
         },
         {
          "category": "knitty",
          "full_test_id": [
           "benchmark-zip",
           "defer",
           "zip-25"
          ],
          "mode": "async",
          "subtest": "zip-25",
          "test": "benchmark-zip",
          "value": 1.997486897643593e-06
         },
         {
          "category": "manifold",
          "full_test_id": [
           "benchmark-zip",
           "defer",
           "zip-2"
          ],
          "mode": "async",
          "subtest": "zip-2",
          "test": "benchmark-zip",
          "value": 5.286649611326801e-07
         },
         {
          "category": "manifold",
          "full_test_id": [
           "benchmark-zip",
           "defer",
           "zip-5"
          ],
          "mode": "async",
          "subtest": "zip-5",
          "test": "benchmark-zip",
          "value": 1.134606674612454e-06
         },
         {
          "category": "manifold",
          "full_test_id": [
           "benchmark-zip",
           "defer",
           "zip-10"
          ],
          "mode": "async",
          "subtest": "zip-10",
          "test": "benchmark-zip",
          "value": 2.081920695667638e-06
         },
         {
          "category": "manifold",
          "full_test_id": [
           "benchmark-zip",
           "defer",
           "zip-25"
          ],
          "mode": "async",
          "subtest": "zip-25",
          "test": "benchmark-zip",
          "value": 5.1066396479659215e-06
         },
         {
          "category": "knitty-md",
          "full_test_id": [
           "benchmark-zip",
           "defer",
           "zip-2"
          ],
          "mode": "async",
          "subtest": "zip-2",
          "test": "benchmark-zip",
          "value": 1.880344424692845e-07
         },
         {
          "category": "knitty-md",
          "full_test_id": [
           "benchmark-zip",
           "defer",
           "zip-5"
          ],
          "mode": "async",
          "subtest": "zip-5",
          "test": "benchmark-zip",
          "value": 5.738064701460944e-07
         },
         {
          "category": "knitty-md",
          "full_test_id": [
           "benchmark-zip",
           "defer",
           "zip-10"
          ],
          "mode": "async",
          "subtest": "zip-10",
          "test": "benchmark-zip",
          "value": 1.1418262973711652e-06
         },
         {
          "category": "knitty-md",
          "full_test_id": [
           "benchmark-zip",
           "defer",
           "zip-25"
          ],
          "mode": "async",
          "subtest": "zip-25",
          "test": "benchmark-zip",
          "value": 3.263872763863605e-06
         }
        ]
       },
       "encoding": {
        "color": {
         "field": "category",
         "type": "nominal"
        },
        "x": {
         "field": "subtest",
         "sort": null
        },
        "xOffset": {
         "field": "category",
         "sort": [
          "knitty",
          "knitty-md",
          "manifold-kt",
          "manifold"
         ]
        },
        "y": {
         "field": "value",
         "type": "quantitative"
        }
       },
       "mark": "bar",
       "title": "benchmark-zip :async"
      },
      "image/png": "[encoded data removed]"
     },
     "metadata": {},
     "output_type": "display_data"
    },
    {
     "data": {
      "text/plain": [
       "nil"
      ]
     },
     "execution_count": 8,
     "metadata": {},
     "output_type": "execute_result"
    }
   ],
   "source": [
    "(defn render-test [test mode]\n",
    "  (render-test-result\n",
    "   (str test (when mode (str \" \" mode)))\n",
    "   (filter\n",
    "    #(and (= test (:test %))\n",
    "          (= mode (:mode %)))\n",
    "    gdata)))\n",
    "\n",
    "(doseq [t [\"benchmark-chain-err\"\n",
    "           \"benchmark-alt\"\n",
    "           \"benchmark-zip-list\"\n",
    "           \"benchmark-chain-in\"\n",
    "           \"benchmark-loop\"\n",
    "           \"benchmark-chain\"\n",
    "           \"benchmark-zip\"]]\n",
    "  (display/display (display/hiccup-html  [:h3 \"test: \" t]))\n",
    "  (render-test t :sync)\n",
    "  (render-test t :async))"
   ]
  }
 ],
 "metadata": {
  "kernelspec": {
   "display_name": "Clojure (clojupyter-0.5.424)",
   "language": "clojure",
   "name": "clojupyter-0.5.424"
  },
  "language_info": {
   "file_extension": ".clj",
   "mimetype": "text/x-clojure",
   "name": "clojure",
   "version": "1.12.0"
  }
 },
 "nbformat": 4,
 "nbformat_minor": 5
}
