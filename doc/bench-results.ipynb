{
 "cells": [
  {
   "cell_type": "code",
   "execution_count": 1,
   "id": "342124e3",
   "metadata": {},
   "outputs": [
    {
     "data": {
      "text/html": [
       ":ok"
      ]
     },
     "execution_count": 1,
     "metadata": {},
     "output_type": "execute_result"
    }
   ],
   "source": [
    "(require '[clojupyter.misc.helper :as helper])\n",
    "(helper/add-dependencies '[criterium/criterium \"0.4.6\"])\n",
    "(helper/add-dependencies '[metasoarous/oz \"1.5.6\"])\n",
    "\n",
    "(require '[clojupyter.display :as display])\n",
    "(require '[clojure.string :as str])\n",
    "(require '[oz.notebook.clojupyter :as oz])\n",
    ":ok"
   ]
  },
  {
   "cell_type": "code",
   "execution_count": 2,
   "id": "6295c453",
   "metadata": {},
   "outputs": [
    {
     "data": {
      "text/plain": [
       "#'user/bench-result-filename"
      ]
     },
     "execution_count": 2,
     "metadata": {},
     "output_type": "execute_result"
    }
   ],
   "source": [
    ";; Load results after running:\n",
    ";; lein test knitty.bench.deferred :benchmark\n",
    "(def bench-result-filename  \"/home/szopolis/work/knitty/.bench-results/xxx.edn\")"
   ]
  },
  {
   "cell_type": "code",
   "execution_count": 3,
   "id": "31db06ea",
   "metadata": {},
   "outputs": [
    {
     "data": {
      "text/plain": [
       "#'user/br"
      ]
     },
     "execution_count": 3,
     "metadata": {},
     "output_type": "execute_result"
    }
   ],
   "source": [
    "(require 'criterium.core)  ;; required to read tagged structs\n",
    "(def br (-> (slurp bench-result-filename) (read-string)))"
   ]
  },
  {
   "cell_type": "code",
   "execution_count": 4,
   "id": "bceae8bd",
   "metadata": {},
   "outputs": [
    {
     "data": {
      "text/plain": [
       "#'user/infer-kt-vs-md-category"
      ]
     },
     "execution_count": 4,
     "metadata": {},
     "output_type": "execute_result"
    }
   ],
   "source": [
    "(defn infer-kt-vs-md-category [test-id]\n",
    "  (let [s (set test-id)\n",
    "        kt? (s :kt)\n",
    "        md? (s :md)\n",
    "        knitty? (s :knitty)\n",
    "        manifold? (s :manifold)]\n",
    "    [(vec (remove #{:kt :md :knitty :manifold} test-id))\n",
    "     (cond\n",
    "       (and knitty? md?) :knitty-md       ;; knitty functions, but md deferreds\n",
    "       (and manifold? kt?) :manifold-kt   ;; manifold functions, but knitty deferreds\n",
    "       knitty? :knitty\n",
    "       manifold? :manifold)]))"
   ]
  },
  {
   "cell_type": "code",
   "execution_count": 5,
   "id": "6b058889",
   "metadata": {},
   "outputs": [
    {
     "data": {
      "text/plain": [
       "#'user/gdata"
      ]
     },
     "execution_count": 5,
     "metadata": {},
     "output_type": "execute_result"
    }
   ],
   "source": [
    "(def gdata\n",
    "  (for [r (:results br)\n",
    "        :let [[ti cat] (infer-kt-vs-md-category (-> r :test-id))]]\n",
    "    {:full_test_id ti\n",
    "     :test (first ti)\n",
    "     :mode (let [s (set ti)]\n",
    "               (cond\n",
    "                 (s :defer) :async\n",
    "                 (s :value) :sync))\n",
    "     :subtest (last ti)\n",
    "     :category cat\n",
    "     :value (-> r :mean first (* 1000000000))\n",
    "    }\n",
    "  ))"
   ]
  },
  {
   "cell_type": "code",
   "execution_count": 6,
   "id": "0499e964",
   "metadata": {},
   "outputs": [
    {
     "data": {
      "text/plain": [
       "#'user/render-test-result"
      ]
     },
     "execution_count": 6,
     "metadata": {},
     "output_type": "execute_result"
    }
   ],
   "source": [
    "(defn render-test-result [t vs]\n",
    "  (display/display\n",
    "   (display/render-mime\n",
    "    :application/vnd.vegalite.v5+json\n",
    "    {:title t\n",
    "     :data {:values vs}\n",
    "     :mark :bar\n",
    "     :height 400\n",
    "     :autosize {:type \"fit\" :contains \"padding\" :resize true}\n",
    "     :encoding {:x {:field :subtest, :sort nil}\n",
    "                :y {:field :value :type :quantitative}\n",
    "                :color {:field :category :type :nominal}\n",
    "                :xOffset {:field :category,\n",
    "                          :sort [:knitty :knitty-md :manifold-kt :manifold]}}})))"
   ]
  },
  {
   "cell_type": "code",
   "execution_count": 7,
   "id": "41cb4ee9",
   "metadata": {},
   "outputs": [
    {
     "data": {
      "application/vnd.vegalite.v5+json": {
       "autosize": {
        "contains": "padding",
        "resize": true,
        "type": "fit"
       },
       "data": {
        "values": [
         {
          "category": "manifold",
          "full_test_id": [
           "bench-deferred",
           "create"
          ],
          "mode": null,
          "subtest": "create",
          "test": "bench-deferred",
          "value": 4.975508478319794
         },
         {
          "category": "manifold",
          "full_test_id": [
           "bench-deferred",
           "listener"
          ],
          "mode": null,
          "subtest": "listener",
          "test": "bench-deferred",
          "value": 37.74252327509114
         },
         {
          "category": "manifold",
          "full_test_id": [
           "bench-deferred",
           "add-listener-3"
          ],
          "mode": null,
          "subtest": "add-listener-3",
          "test": "bench-deferred",
          "value": 67.51588462322317
         },
         {
          "category": "manifold",
          "full_test_id": [
           "bench-deferred",
           "suc-add-listener"
          ],
          "mode": null,
          "subtest": "suc-add-listener",
          "test": "bench-deferred",
          "value": 45.436795487318015
         },
         {
          "category": "manifold",
          "full_test_id": [
           "bench-deferred",
           "success-get"
          ],
          "mode": null,
          "subtest": "success-get",
          "test": "bench-deferred",
          "value": 30.37007527498103
         },
         {
          "category": "manifold",
          "full_test_id": [
           "bench-deferred",
           "success-deref"
          ],
          "mode": null,
          "subtest": "success-deref",
          "test": "bench-deferred",
          "value": 35.72730075951687
         },
         {
          "category": "manifold",
          "full_test_id": [
           "bench-deferred",
           "success-kdpeel"
          ],
          "mode": null,
          "subtest": "success-kdpeel",
          "test": "bench-deferred",
          "value": 32.95540304340606
         },
         {
          "category": "knitty",
          "full_test_id": [
           "bench-deferred",
           "create"
          ],
          "mode": null,
          "subtest": "create",
          "test": "bench-deferred",
          "value": 2.5683504744943972
         },
         {
          "category": "knitty",
          "full_test_id": [
           "bench-deferred",
           "listener"
          ],
          "mode": null,
          "subtest": "listener",
          "test": "bench-deferred",
          "value": 11.566937144189119
         },
         {
          "category": "knitty",
          "full_test_id": [
           "bench-deferred",
           "add-listener-3"
          ],
          "mode": null,
          "subtest": "add-listener-3",
          "test": "bench-deferred",
          "value": 21.901950244943468
         },
         {
          "category": "knitty",
          "full_test_id": [
           "bench-deferred",
           "suc-add-listener"
          ],
          "mode": null,
          "subtest": "suc-add-listener",
          "test": "bench-deferred",
          "value": 10.6145131519026
         },
         {
          "category": "knitty",
          "full_test_id": [
           "bench-deferred",
           "success-get"
          ],
          "mode": null,
          "subtest": "success-get",
          "test": "bench-deferred",
          "value": 8.87808178820143
         },
         {
          "category": "knitty",
          "full_test_id": [
           "bench-deferred",
           "success-deref"
          ],
          "mode": null,
          "subtest": "success-deref",
          "test": "bench-deferred",
          "value": 9.141475018942048
         },
         {
          "category": "knitty",
          "full_test_id": [
           "bench-deferred",
           "success-kdpeel"
          ],
          "mode": null,
          "subtest": "success-kdpeel",
          "test": "bench-deferred",
          "value": 8.875350684889176
         }
        ]
       },
       "encoding": {
        "color": {
         "field": "category",
         "type": "nominal"
        },
        "x": {
         "field": "subtest",
         "sort": null
        },
        "xOffset": {
         "field": "category",
         "sort": [
          "knitty",
          "knitty-md",
          "manifold-kt",
          "manifold"
         ]
        },
        "y": {
         "field": "value",
         "type": "quantitative"
        }
       },
       "height": 400,
       "mark": "bar",
       "title": "Deferred basics"
      },
      "image/png": "[encoded data removed]"
     },
     "metadata": {},
     "output_type": "display_data"
    },
    {
     "data": {
      "text/html": [
       ":ok"
      ]
     },
     "execution_count": 7,
     "metadata": {},
     "output_type": "execute_result"
    }
   ],
   "source": [
    "(render-test-result \"Deferred basics\" (filter #(= \"bench-deferred\" (:test %)) gdata))"
   ]
  },
  {
   "cell_type": "code",
   "execution_count": 8,
   "id": "3606713f",
   "metadata": {},
   "outputs": [
    {
     "data": {
      "text/html": [
       "<h3>test: benchmark-chain</h3>"
      ]
     },
     "metadata": {},
     "output_type": "display_data"
    },
    {
     "data": {
      "application/vnd.vegalite.v5+json": {
       "autosize": {
        "contains": "padding",
        "resize": true,
        "type": "fit"
       },
       "data": {
        "values": [
         {
          "category": "manifold-kt",
          "full_test_id": [
           "benchmark-chain",
           "value",
           "chain-x1"
          ],
          "mode": "sync",
          "subtest": "chain-x1",
          "test": "benchmark-chain",
          "value": 17.286964757538584
         },
         {
          "category": "manifold-kt",
          "full_test_id": [
           "benchmark-chain",
           "value",
           "chain-x2"
          ],
          "mode": "sync",
          "subtest": "chain-x2",
          "test": "benchmark-chain",
          "value": 19.315415153099288
         },
         {
          "category": "manifold-kt",
          "full_test_id": [
           "benchmark-chain",
           "value",
           "chain-x3"
          ],
          "mode": "sync",
          "subtest": "chain-x3",
          "test": "benchmark-chain",
          "value": 203.26607757699142
         },
         {
          "category": "knitty",
          "full_test_id": [
           "benchmark-chain",
           "value",
           "chain-x1"
          ],
          "mode": "sync",
          "subtest": "chain-x1",
          "test": "benchmark-chain",
          "value": 16.11296681850421
         },
         {
          "category": "knitty",
          "full_test_id": [
           "benchmark-chain",
           "value",
           "chain-x2"
          ],
          "mode": "sync",
          "subtest": "chain-x2",
          "test": "benchmark-chain",
          "value": 16.354281908168314
         },
         {
          "category": "knitty",
          "full_test_id": [
           "benchmark-chain",
           "value",
           "chain-x3"
          ],
          "mode": "sync",
          "subtest": "chain-x3",
          "test": "benchmark-chain",
          "value": 22.122762707894488
         },
         {
          "category": "manifold",
          "full_test_id": [
           "benchmark-chain",
           "value",
           "chain-x1"
          ],
          "mode": "sync",
          "subtest": "chain-x1",
          "test": "benchmark-chain",
          "value": 18.431928449367952
         },
         {
          "category": "manifold",
          "full_test_id": [
           "benchmark-chain",
           "value",
           "chain-x2"
          ],
          "mode": "sync",
          "subtest": "chain-x2",
          "test": "benchmark-chain",
          "value": 20.83807188039728
         },
         {
          "category": "manifold",
          "full_test_id": [
           "benchmark-chain",
           "value",
           "chain-x3"
          ],
          "mode": "sync",
          "subtest": "chain-x3",
          "test": "benchmark-chain",
          "value": 191.72232580161776
         },
         {
          "category": "knitty-md",
          "full_test_id": [
           "benchmark-chain",
           "value",
           "chain-x1"
          ],
          "mode": "sync",
          "subtest": "chain-x1",
          "test": "benchmark-chain",
          "value": 18.490631035840398
         },
         {
          "category": "knitty-md",
          "full_test_id": [
           "benchmark-chain",
           "value",
           "chain-x2"
          ],
          "mode": "sync",
          "subtest": "chain-x2",
          "test": "benchmark-chain",
          "value": 18.98394143185921
         },
         {
          "category": "knitty-md",
          "full_test_id": [
           "benchmark-chain",
           "value",
           "chain-x3"
          ],
          "mode": "sync",
          "subtest": "chain-x3",
          "test": "benchmark-chain",
          "value": 32.826613092311206
         }
        ]
       },
       "encoding": {
        "color": {
         "field": "category",
         "type": "nominal"
        },
        "x": {
         "field": "subtest",
         "sort": null
        },
        "xOffset": {
         "field": "category",
         "sort": [
          "knitty",
          "knitty-md",
          "manifold-kt",
          "manifold"
         ]
        },
        "y": {
         "field": "value",
         "type": "quantitative"
        }
       },
       "height": 400,
       "mark": "bar",
       "title": "benchmark-chain :sync"
      },
      "image/png": "[encoded data removed]"
     },
     "metadata": {},
     "output_type": "display_data"
    },
    {
     "data": {
      "application/vnd.vegalite.v5+json": {
       "autosize": {
        "contains": "padding",
        "resize": true,
        "type": "fit"
       },
       "data": {
        "values": [
         {
          "category": "manifold-kt",
          "full_test_id": [
           "benchmark-chain",
           "defer",
           "chain-x1"
          ],
          "mode": "async",
          "subtest": "chain-x1",
          "test": "benchmark-chain",
          "value": 76.15550954697991
         },
         {
          "category": "manifold-kt",
          "full_test_id": [
           "benchmark-chain",
           "defer",
           "chain-x2"
          ],
          "mode": "async",
          "subtest": "chain-x2",
          "test": "benchmark-chain",
          "value": 75.22645119088894
         },
         {
          "category": "manifold-kt",
          "full_test_id": [
           "benchmark-chain",
           "defer",
           "chain-x3"
          ],
          "mode": "async",
          "subtest": "chain-x3",
          "test": "benchmark-chain",
          "value": 358.57018197976356
         },
         {
          "category": "knitty",
          "full_test_id": [
           "benchmark-chain",
           "defer",
           "chain-x1"
          ],
          "mode": "async",
          "subtest": "chain-x1",
          "test": "benchmark-chain",
          "value": 39.48802770591836
         },
         {
          "category": "knitty",
          "full_test_id": [
           "benchmark-chain",
           "defer",
           "chain-x2"
          ],
          "mode": "async",
          "subtest": "chain-x2",
          "test": "benchmark-chain",
          "value": 53.57121529323861
         },
         {
          "category": "knitty",
          "full_test_id": [
           "benchmark-chain",
           "defer",
           "chain-x3"
          ],
          "mode": "async",
          "subtest": "chain-x3",
          "test": "benchmark-chain",
          "value": 67.19380075457559
         },
         {
          "category": "manifold",
          "full_test_id": [
           "benchmark-chain",
           "defer",
           "chain-x1"
          ],
          "mode": "async",
          "subtest": "chain-x1",
          "test": "benchmark-chain",
          "value": 129.3506672164129
         },
         {
          "category": "manifold",
          "full_test_id": [
           "benchmark-chain",
           "defer",
           "chain-x2"
          ],
          "mode": "async",
          "subtest": "chain-x2",
          "test": "benchmark-chain",
          "value": 119.2874977132729
         },
         {
          "category": "manifold",
          "full_test_id": [
           "benchmark-chain",
           "defer",
           "chain-x3"
          ],
          "mode": "async",
          "subtest": "chain-x3",
          "test": "benchmark-chain",
          "value": 402.9335926654133
         },
         {
          "category": "knitty-md",
          "full_test_id": [
           "benchmark-chain",
           "defer",
           "chain-x1"
          ],
          "mode": "async",
          "subtest": "chain-x1",
          "test": "benchmark-chain",
          "value": 87.02265673050617
         },
         {
          "category": "knitty-md",
          "full_test_id": [
           "benchmark-chain",
           "defer",
           "chain-x2"
          ],
          "mode": "async",
          "subtest": "chain-x2",
          "test": "benchmark-chain",
          "value": 102.65693157111917
         },
         {
          "category": "knitty-md",
          "full_test_id": [
           "benchmark-chain",
           "defer",
           "chain-x3"
          ],
          "mode": "async",
          "subtest": "chain-x3",
          "test": "benchmark-chain",
          "value": 121.73174395890813
         }
        ]
       },
       "encoding": {
        "color": {
         "field": "category",
         "type": "nominal"
        },
        "x": {
         "field": "subtest",
         "sort": null
        },
        "xOffset": {
         "field": "category",
         "sort": [
          "knitty",
          "knitty-md",
          "manifold-kt",
          "manifold"
         ]
        },
        "y": {
         "field": "value",
         "type": "quantitative"
        }
       },
       "height": 400,
       "mark": "bar",
       "title": "benchmark-chain :async"
      },
      "image/png": "[encoded data removed]"
     },
     "metadata": {},
     "output_type": "display_data"
    },
    {
     "data": {
      "text/html": [
       "<h3>test: benchmark-chain-in</h3>"
      ]
     },
     "metadata": {},
     "output_type": "display_data"
    },
    {
     "data": {
      "application/vnd.vegalite.v5+json": {
       "autosize": {
        "contains": "padding",
        "resize": true,
        "type": "fit"
       },
       "data": {
        "values": [
         {
          "category": "manifold-kt",
          "full_test_id": [
           "benchmark-chain-in",
           "value",
           "chain-in-x1"
          ],
          "mode": "sync",
          "subtest": "chain-in-x1",
          "test": "benchmark-chain-in",
          "value": 27.20179677964743
         },
         {
          "category": "manifold-kt",
          "full_test_id": [
           "benchmark-chain-in",
           "value",
           "chain-in-x2"
          ],
          "mode": "sync",
          "subtest": "chain-in-x2",
          "test": "benchmark-chain-in",
          "value": 49.35162885116955
         },
         {
          "category": "manifold-kt",
          "full_test_id": [
           "benchmark-chain-in",
           "value",
           "chain-in-x3"
          ],
          "mode": "sync",
          "subtest": "chain-in-x3",
          "test": "benchmark-chain-in",
          "value": 66.92147783395895
         },
         {
          "category": "knitty",
          "full_test_id": [
           "benchmark-chain-in",
           "value",
           "chain-in-x1"
          ],
          "mode": "sync",
          "subtest": "chain-in-x1",
          "test": "benchmark-chain-in",
          "value": 7.591394145215567
         },
         {
          "category": "knitty",
          "full_test_id": [
           "benchmark-chain-in",
           "value",
           "chain-in-x2"
          ],
          "mode": "sync",
          "subtest": "chain-in-x2",
          "test": "benchmark-chain-in",
          "value": 13.027360160715125
         },
         {
          "category": "knitty",
          "full_test_id": [
           "benchmark-chain-in",
           "value",
           "chain-in-x3"
          ],
          "mode": "sync",
          "subtest": "chain-in-x3",
          "test": "benchmark-chain-in",
          "value": 18.691904932135344
         },
         {
          "category": "manifold",
          "full_test_id": [
           "benchmark-chain-in",
           "value",
           "chain-in-x1"
          ],
          "mode": "sync",
          "subtest": "chain-in-x1",
          "test": "benchmark-chain-in",
          "value": 25.601300714832703
         },
         {
          "category": "manifold",
          "full_test_id": [
           "benchmark-chain-in",
           "value",
           "chain-in-x2"
          ],
          "mode": "sync",
          "subtest": "chain-in-x2",
          "test": "benchmark-chain-in",
          "value": 53.81892999103691
         },
         {
          "category": "manifold",
          "full_test_id": [
           "benchmark-chain-in",
           "value",
           "chain-in-x3"
          ],
          "mode": "sync",
          "subtest": "chain-in-x3",
          "test": "benchmark-chain-in",
          "value": 65.77512857566371
         },
         {
          "category": "knitty-md",
          "full_test_id": [
           "benchmark-chain-in",
           "value",
           "chain-in-x1"
          ],
          "mode": "sync",
          "subtest": "chain-in-x1",
          "test": "benchmark-chain-in",
          "value": 22.242627326554246
         },
         {
          "category": "knitty-md",
          "full_test_id": [
           "benchmark-chain-in",
           "value",
           "chain-in-x2"
          ],
          "mode": "sync",
          "subtest": "chain-in-x2",
          "test": "benchmark-chain-in",
          "value": 25.809099747814756
         },
         {
          "category": "knitty-md",
          "full_test_id": [
           "benchmark-chain-in",
           "value",
           "chain-in-x3"
          ],
          "mode": "sync",
          "subtest": "chain-in-x3",
          "test": "benchmark-chain-in",
          "value": 32.28305998532621
         }
        ]
       },
       "encoding": {
        "color": {
         "field": "category",
         "type": "nominal"
        },
        "x": {
         "field": "subtest",
         "sort": null
        },
        "xOffset": {
         "field": "category",
         "sort": [
          "knitty",
          "knitty-md",
          "manifold-kt",
          "manifold"
         ]
        },
        "y": {
         "field": "value",
         "type": "quantitative"
        }
       },
       "height": 400,
       "mark": "bar",
       "title": "benchmark-chain-in :sync"
      },
      "image/png": "[encoded data removed]"
     },
     "metadata": {},
     "output_type": "display_data"
    },
    {
     "data": {
      "application/vnd.vegalite.v5+json": {
       "autosize": {
        "contains": "padding",
        "resize": true,
        "type": "fit"
       },
       "data": {
        "values": [
         {
          "category": "manifold-kt",
          "full_test_id": [
           "benchmark-chain-in",
           "defer",
           "chain-in-x1"
          ],
          "mode": "async",
          "subtest": "chain-in-x1",
          "test": "benchmark-chain-in",
          "value": 133.19967130088327
         },
         {
          "category": "manifold-kt",
          "full_test_id": [
           "benchmark-chain-in",
           "defer",
           "chain-in-x2"
          ],
          "mode": "async",
          "subtest": "chain-in-x2",
          "test": "benchmark-chain-in",
          "value": 269.22612976487716
         },
         {
          "category": "manifold-kt",
          "full_test_id": [
           "benchmark-chain-in",
           "defer",
           "chain-in-x3"
          ],
          "mode": "async",
          "subtest": "chain-in-x3",
          "test": "benchmark-chain-in",
          "value": 373.27587073334854
         },
         {
          "category": "knitty",
          "full_test_id": [
           "benchmark-chain-in",
           "defer",
           "chain-in-x1"
          ],
          "mode": "async",
          "subtest": "chain-in-x1",
          "test": "benchmark-chain-in",
          "value": 68.48416228140063
         },
         {
          "category": "knitty",
          "full_test_id": [
           "benchmark-chain-in",
           "defer",
           "chain-in-x2"
          ],
          "mode": "async",
          "subtest": "chain-in-x2",
          "test": "benchmark-chain-in",
          "value": 109.10766699975603
         },
         {
          "category": "knitty",
          "full_test_id": [
           "benchmark-chain-in",
           "defer",
           "chain-in-x3"
          ],
          "mode": "async",
          "subtest": "chain-in-x3",
          "test": "benchmark-chain-in",
          "value": 142.93423974541224
         },
         {
          "category": "manifold",
          "full_test_id": [
           "benchmark-chain-in",
           "defer",
           "chain-in-x1"
          ],
          "mode": "async",
          "subtest": "chain-in-x1",
          "test": "benchmark-chain-in",
          "value": 205.29592029172497
         },
         {
          "category": "manifold",
          "full_test_id": [
           "benchmark-chain-in",
           "defer",
           "chain-in-x2"
          ],
          "mode": "async",
          "subtest": "chain-in-x2",
          "test": "benchmark-chain-in",
          "value": 411.70121364842856
         },
         {
          "category": "manifold",
          "full_test_id": [
           "benchmark-chain-in",
           "defer",
           "chain-in-x3"
          ],
          "mode": "async",
          "subtest": "chain-in-x3",
          "test": "benchmark-chain-in",
          "value": 514.2855211636029
         },
         {
          "category": "knitty-md",
          "full_test_id": [
           "benchmark-chain-in",
           "defer",
           "chain-in-x1"
          ],
          "mode": "async",
          "subtest": "chain-in-x1",
          "test": "benchmark-chain-in",
          "value": 167.94950890837316
         },
         {
          "category": "knitty-md",
          "full_test_id": [
           "benchmark-chain-in",
           "defer",
           "chain-in-x2"
          ],
          "mode": "async",
          "subtest": "chain-in-x2",
          "test": "benchmark-chain-in",
          "value": 245.83528201006536
         },
         {
          "category": "knitty-md",
          "full_test_id": [
           "benchmark-chain-in",
           "defer",
           "chain-in-x3"
          ],
          "mode": "async",
          "subtest": "chain-in-x3",
          "test": "benchmark-chain-in",
          "value": 296.3716763995863
         }
        ]
       },
       "encoding": {
        "color": {
         "field": "category",
         "type": "nominal"
        },
        "x": {
         "field": "subtest",
         "sort": null
        },
        "xOffset": {
         "field": "category",
         "sort": [
          "knitty",
          "knitty-md",
          "manifold-kt",
          "manifold"
         ]
        },
        "y": {
         "field": "value",
         "type": "quantitative"
        }
       },
       "height": 400,
       "mark": "bar",
       "title": "benchmark-chain-in :async"
      },
      "image/png": "[encoded data removed]"
     },
     "metadata": {},
     "output_type": "display_data"
    },
    {
     "data": {
      "text/html": [
       "<h3>test: benchmark-chain-err</h3>"
      ]
     },
     "metadata": {},
     "output_type": "display_data"
    },
    {
     "data": {
      "application/vnd.vegalite.v5+json": {
       "autosize": {
        "contains": "padding",
        "resize": true,
        "type": "fit"
       },
       "data": {
        "values": [
         {
          "category": "manifold-kt",
          "full_test_id": [
           "benchmark-chain-err",
           "value",
           "chain-err1"
          ],
          "mode": "sync",
          "subtest": "chain-err1",
          "test": "benchmark-chain-err",
          "value": 360.5030602647661
         },
         {
          "category": "manifold-kt",
          "full_test_id": [
           "benchmark-chain-err",
           "value",
           "chain-err5"
          ],
          "mode": "sync",
          "subtest": "chain-err5",
          "test": "benchmark-chain-err",
          "value": 1496.4464760565363
         },
         {
          "category": "knitty",
          "full_test_id": [
           "benchmark-chain-err",
           "value",
           "chain-err1"
          ],
          "mode": "sync",
          "subtest": "chain-err1",
          "test": "benchmark-chain-err",
          "value": 52.778577598154094
         },
         {
          "category": "knitty",
          "full_test_id": [
           "benchmark-chain-err",
           "value",
           "chain-err5"
          ],
          "mode": "sync",
          "subtest": "chain-err5",
          "test": "benchmark-chain-err",
          "value": 219.97323719608798
         },
         {
          "category": "manifold",
          "full_test_id": [
           "benchmark-chain-err",
           "value",
           "chain-err1"
          ],
          "mode": "sync",
          "subtest": "chain-err1",
          "test": "benchmark-chain-err",
          "value": 370.07232335662485
         },
         {
          "category": "manifold",
          "full_test_id": [
           "benchmark-chain-err",
           "value",
           "chain-err5"
          ],
          "mode": "sync",
          "subtest": "chain-err5",
          "test": "benchmark-chain-err",
          "value": 1445.4727615541876
         },
         {
          "category": "knitty-md",
          "full_test_id": [
           "benchmark-chain-err",
           "value",
           "chain-err1"
          ],
          "mode": "sync",
          "subtest": "chain-err1",
          "test": "benchmark-chain-err",
          "value": 48.38401162174842
         },
         {
          "category": "knitty-md",
          "full_test_id": [
           "benchmark-chain-err",
           "value",
           "chain-err5"
          ],
          "mode": "sync",
          "subtest": "chain-err5",
          "test": "benchmark-chain-err",
          "value": 206.7644395318468
         }
        ]
       },
       "encoding": {
        "color": {
         "field": "category",
         "type": "nominal"
        },
        "x": {
         "field": "subtest",
         "sort": null
        },
        "xOffset": {
         "field": "category",
         "sort": [
          "knitty",
          "knitty-md",
          "manifold-kt",
          "manifold"
         ]
        },
        "y": {
         "field": "value",
         "type": "quantitative"
        }
       },
       "height": 400,
       "mark": "bar",
       "title": "benchmark-chain-err :sync"
      },
      "image/png": "[encoded data removed]"
     },
     "metadata": {},
     "output_type": "display_data"
    },
    {
     "data": {
      "application/vnd.vegalite.v5+json": {
       "autosize": {
        "contains": "padding",
        "resize": true,
        "type": "fit"
       },
       "data": {
        "values": [
         {
          "category": "manifold-kt",
          "full_test_id": [
           "benchmark-chain-err",
           "defer",
           "chain-err1"
          ],
          "mode": "async",
          "subtest": "chain-err1",
          "test": "benchmark-chain-err",
          "value": 269.6688074527835
         },
         {
          "category": "manifold-kt",
          "full_test_id": [
           "benchmark-chain-err",
           "defer",
           "chain-err5"
          ],
          "mode": "async",
          "subtest": "chain-err5",
          "test": "benchmark-chain-err",
          "value": 2215.9708183454236
         },
         {
          "category": "knitty",
          "full_test_id": [
           "benchmark-chain-err",
           "defer",
           "chain-err1"
          ],
          "mode": "async",
          "subtest": "chain-err1",
          "test": "benchmark-chain-err",
          "value": 198.2124412593455
         },
         {
          "category": "knitty",
          "full_test_id": [
           "benchmark-chain-err",
           "defer",
           "chain-err5"
          ],
          "mode": "async",
          "subtest": "chain-err5",
          "test": "benchmark-chain-err",
          "value": 528.9286240754425
         },
         {
          "category": "manifold",
          "full_test_id": [
           "benchmark-chain-err",
           "defer",
           "chain-err1"
          ],
          "mode": "async",
          "subtest": "chain-err1",
          "test": "benchmark-chain-err",
          "value": 269.75123293898827
         },
         {
          "category": "manifold",
          "full_test_id": [
           "benchmark-chain-err",
           "defer",
           "chain-err5"
          ],
          "mode": "async",
          "subtest": "chain-err5",
          "test": "benchmark-chain-err",
          "value": 2110.3804880246794
         },
         {
          "category": "knitty-md",
          "full_test_id": [
           "benchmark-chain-err",
           "defer",
           "chain-err1"
          ],
          "mode": "async",
          "subtest": "chain-err1",
          "test": "benchmark-chain-err",
          "value": 236.97265658551942
         },
         {
          "category": "knitty-md",
          "full_test_id": [
           "benchmark-chain-err",
           "defer",
           "chain-err5"
          ],
          "mode": "async",
          "subtest": "chain-err5",
          "test": "benchmark-chain-err",
          "value": 629.0872538547932
         }
        ]
       },
       "encoding": {
        "color": {
         "field": "category",
         "type": "nominal"
        },
        "x": {
         "field": "subtest",
         "sort": null
        },
        "xOffset": {
         "field": "category",
         "sort": [
          "knitty",
          "knitty-md",
          "manifold-kt",
          "manifold"
         ]
        },
        "y": {
         "field": "value",
         "type": "quantitative"
        }
       },
       "height": 400,
       "mark": "bar",
       "title": "benchmark-chain-err :async"
      },
      "image/png": "[encoded data removed]"
     },
     "metadata": {},
     "output_type": "display_data"
    },
    {
     "data": {
      "text/html": [
       "<h3>test: benchmark-alt</h3>"
      ]
     },
     "metadata": {},
     "output_type": "display_data"
    },
    {
     "data": {
      "application/vnd.vegalite.v5+json": {
       "autosize": {
        "contains": "padding",
        "resize": true,
        "type": "fit"
       },
       "data": {
        "values": [
         {
          "category": "manifold-kt",
          "full_test_id": [
           "benchmark-alt",
           "value",
           "alt-2"
          ],
          "mode": "sync",
          "subtest": "alt-2",
          "test": "benchmark-alt",
          "value": 103.05105355748424
         },
         {
          "category": "manifold-kt",
          "full_test_id": [
           "benchmark-alt",
           "value",
           "alt-3"
          ],
          "mode": "sync",
          "subtest": "alt-3",
          "test": "benchmark-alt",
          "value": 133.0137907582354
         },
         {
          "category": "manifold-kt",
          "full_test_id": [
           "benchmark-alt",
           "value",
           "alt-10"
          ],
          "mode": "sync",
          "subtest": "alt-10",
          "test": "benchmark-alt",
          "value": 295.4666688894684
         },
         {
          "category": "knitty",
          "full_test_id": [
           "benchmark-alt",
           "value",
           "alt-2"
          ],
          "mode": "sync",
          "subtest": "alt-2",
          "test": "benchmark-alt",
          "value": 25.207732610857143
         },
         {
          "category": "knitty",
          "full_test_id": [
           "benchmark-alt",
           "value",
           "alt-3"
          ],
          "mode": "sync",
          "subtest": "alt-3",
          "test": "benchmark-alt",
          "value": 35.17227015936786
         },
         {
          "category": "knitty",
          "full_test_id": [
           "benchmark-alt",
           "value",
           "alt-10"
          ],
          "mode": "sync",
          "subtest": "alt-10",
          "test": "benchmark-alt",
          "value": 144.1856513924268
         },
         {
          "category": "manifold",
          "full_test_id": [
           "benchmark-alt",
           "value",
           "alt-2"
          ],
          "mode": "sync",
          "subtest": "alt-2",
          "test": "benchmark-alt",
          "value": 91.93074649066428
         },
         {
          "category": "manifold",
          "full_test_id": [
           "benchmark-alt",
           "value",
           "alt-3"
          ],
          "mode": "sync",
          "subtest": "alt-3",
          "test": "benchmark-alt",
          "value": 118.48509194842974
         },
         {
          "category": "manifold",
          "full_test_id": [
           "benchmark-alt",
           "value",
           "alt-10"
          ],
          "mode": "sync",
          "subtest": "alt-10",
          "test": "benchmark-alt",
          "value": 281.943030780228
         },
         {
          "category": "knitty-md",
          "full_test_id": [
           "benchmark-alt",
           "value",
           "alt-2"
          ],
          "mode": "sync",
          "subtest": "alt-2",
          "test": "benchmark-alt",
          "value": 25.31746684092782
         },
         {
          "category": "knitty-md",
          "full_test_id": [
           "benchmark-alt",
           "value",
           "alt-3"
          ],
          "mode": "sync",
          "subtest": "alt-3",
          "test": "benchmark-alt",
          "value": 25.942133665118366
         },
         {
          "category": "knitty-md",
          "full_test_id": [
           "benchmark-alt",
           "value",
           "alt-10"
          ],
          "mode": "sync",
          "subtest": "alt-10",
          "test": "benchmark-alt",
          "value": 134.6874863322088
         }
        ]
       },
       "encoding": {
        "color": {
         "field": "category",
         "type": "nominal"
        },
        "x": {
         "field": "subtest",
         "sort": null
        },
        "xOffset": {
         "field": "category",
         "sort": [
          "knitty",
          "knitty-md",
          "manifold-kt",
          "manifold"
         ]
        },
        "y": {
         "field": "value",
         "type": "quantitative"
        }
       },
       "height": 400,
       "mark": "bar",
       "title": "benchmark-alt :sync"
      },
      "image/png": "[encoded data removed]"
     },
     "metadata": {},
     "output_type": "display_data"
    },
    {
     "data": {
      "application/vnd.vegalite.v5+json": {
       "autosize": {
        "contains": "padding",
        "resize": true,
        "type": "fit"
       },
       "data": {
        "values": [
         {
          "category": "manifold-kt",
          "full_test_id": [
           "benchmark-alt",
           "defer",
           "alt-2"
          ],
          "mode": "async",
          "subtest": "alt-2",
          "test": "benchmark-alt",
          "value": 366.75124792736875
         },
         {
          "category": "manifold-kt",
          "full_test_id": [
           "benchmark-alt",
           "defer",
           "alt-3"
          ],
          "mode": "async",
          "subtest": "alt-3",
          "test": "benchmark-alt",
          "value": 539.46228086801
         },
         {
          "category": "manifold-kt",
          "full_test_id": [
           "benchmark-alt",
           "defer",
           "alt-10"
          ],
          "mode": "async",
          "subtest": "alt-10",
          "test": "benchmark-alt",
          "value": 2019.6690349330495
         },
         {
          "category": "knitty",
          "full_test_id": [
           "benchmark-alt",
           "defer",
           "alt-2"
          ],
          "mode": "async",
          "subtest": "alt-2",
          "test": "benchmark-alt",
          "value": 92.2921779860078
         },
         {
          "category": "knitty",
          "full_test_id": [
           "benchmark-alt",
           "defer",
           "alt-3"
          ],
          "mode": "async",
          "subtest": "alt-3",
          "test": "benchmark-alt",
          "value": 172.7767484071319
         },
         {
          "category": "knitty",
          "full_test_id": [
           "benchmark-alt",
           "defer",
           "alt-10"
          ],
          "mode": "async",
          "subtest": "alt-10",
          "test": "benchmark-alt",
          "value": 596.3263190620484
         },
         {
          "category": "manifold",
          "full_test_id": [
           "benchmark-alt",
           "defer",
           "alt-2"
          ],
          "mode": "async",
          "subtest": "alt-2",
          "test": "benchmark-alt",
          "value": 484.0609020935373
         },
         {
          "category": "manifold",
          "full_test_id": [
           "benchmark-alt",
           "defer",
           "alt-3"
          ],
          "mode": "async",
          "subtest": "alt-3",
          "test": "benchmark-alt",
          "value": 720.8142275549995
         },
         {
          "category": "manifold",
          "full_test_id": [
           "benchmark-alt",
           "defer",
           "alt-10"
          ],
          "mode": "async",
          "subtest": "alt-10",
          "test": "benchmark-alt",
          "value": 2460.3089197231484
         },
         {
          "category": "knitty-md",
          "full_test_id": [
           "benchmark-alt",
           "defer",
           "alt-2"
          ],
          "mode": "async",
          "subtest": "alt-2",
          "test": "benchmark-alt",
          "value": 188.2368909409339
         },
         {
          "category": "knitty-md",
          "full_test_id": [
           "benchmark-alt",
           "defer",
           "alt-3"
          ],
          "mode": "async",
          "subtest": "alt-3",
          "test": "benchmark-alt",
          "value": 321.9743949159713
         },
         {
          "category": "knitty-md",
          "full_test_id": [
           "benchmark-alt",
           "defer",
           "alt-10"
          ],
          "mode": "async",
          "subtest": "alt-10",
          "test": "benchmark-alt",
          "value": 1113.243485091962
         }
        ]
       },
       "encoding": {
        "color": {
         "field": "category",
         "type": "nominal"
        },
        "x": {
         "field": "subtest",
         "sort": null
        },
        "xOffset": {
         "field": "category",
         "sort": [
          "knitty",
          "knitty-md",
          "manifold-kt",
          "manifold"
         ]
        },
        "y": {
         "field": "value",
         "type": "quantitative"
        }
       },
       "height": 400,
       "mark": "bar",
       "title": "benchmark-alt :async"
      },
      "image/png": "[encoded data removed]"
     },
     "metadata": {},
     "output_type": "display_data"
    },
    {
     "data": {
      "text/html": [
       "<h3>test: benchmark-zip</h3>"
      ]
     },
     "metadata": {},
     "output_type": "display_data"
    },
    {
     "data": {
      "application/vnd.vegalite.v5+json": {
       "autosize": {
        "contains": "padding",
        "resize": true,
        "type": "fit"
       },
       "data": {
        "values": [
         {
          "category": "manifold-kt",
          "full_test_id": [
           "benchmark-zip",
           "value",
           "zip-2"
          ],
          "mode": "sync",
          "subtest": "zip-2",
          "test": "benchmark-zip",
          "value": 95.3002485958572
         },
         {
          "category": "manifold-kt",
          "full_test_id": [
           "benchmark-zip",
           "value",
           "zip-5"
          ],
          "mode": "sync",
          "subtest": "zip-5",
          "test": "benchmark-zip",
          "value": 176.82122161484273
         },
         {
          "category": "manifold-kt",
          "full_test_id": [
           "benchmark-zip",
           "value",
           "zip-10"
          ],
          "mode": "sync",
          "subtest": "zip-10",
          "test": "benchmark-zip",
          "value": 286.4008368062503
         },
         {
          "category": "knitty",
          "full_test_id": [
           "benchmark-zip",
           "value",
           "zip-2"
          ],
          "mode": "sync",
          "subtest": "zip-2",
          "test": "benchmark-zip",
          "value": 24.28447334378881
         },
         {
          "category": "knitty",
          "full_test_id": [
           "benchmark-zip",
           "value",
           "zip-5"
          ],
          "mode": "sync",
          "subtest": "zip-5",
          "test": "benchmark-zip",
          "value": 35.819704647723434
         },
         {
          "category": "knitty",
          "full_test_id": [
           "benchmark-zip",
           "value",
           "zip-10"
          ],
          "mode": "sync",
          "subtest": "zip-10",
          "test": "benchmark-zip",
          "value": 66.6075617848023
         },
         {
          "category": "manifold",
          "full_test_id": [
           "benchmark-zip",
           "value",
           "zip-2"
          ],
          "mode": "sync",
          "subtest": "zip-2",
          "test": "benchmark-zip",
          "value": 113.01705143438468
         },
         {
          "category": "manifold",
          "full_test_id": [
           "benchmark-zip",
           "value",
           "zip-5"
          ],
          "mode": "sync",
          "subtest": "zip-5",
          "test": "benchmark-zip",
          "value": 233.89192351698915
         },
         {
          "category": "manifold",
          "full_test_id": [
           "benchmark-zip",
           "value",
           "zip-10"
          ],
          "mode": "sync",
          "subtest": "zip-10",
          "test": "benchmark-zip",
          "value": 378.5282297082694
         },
         {
          "category": "knitty-md",
          "full_test_id": [
           "benchmark-zip",
           "value",
           "zip-2"
          ],
          "mode": "sync",
          "subtest": "zip-2",
          "test": "benchmark-zip",
          "value": 33.55936786782468
         },
         {
          "category": "knitty-md",
          "full_test_id": [
           "benchmark-zip",
           "value",
           "zip-5"
          ],
          "mode": "sync",
          "subtest": "zip-5",
          "test": "benchmark-zip",
          "value": 47.58384351946967
         },
         {
          "category": "knitty-md",
          "full_test_id": [
           "benchmark-zip",
           "value",
           "zip-10"
          ],
          "mode": "sync",
          "subtest": "zip-10",
          "test": "benchmark-zip",
          "value": 134.9711791178844
         }
        ]
       },
       "encoding": {
        "color": {
         "field": "category",
         "type": "nominal"
        },
        "x": {
         "field": "subtest",
         "sort": null
        },
        "xOffset": {
         "field": "category",
         "sort": [
          "knitty",
          "knitty-md",
          "manifold-kt",
          "manifold"
         ]
        },
        "y": {
         "field": "value",
         "type": "quantitative"
        }
       },
       "height": 400,
       "mark": "bar",
       "title": "benchmark-zip :sync"
      },
      "image/png": "[encoded data removed]"
     },
     "metadata": {},
     "output_type": "display_data"
    },
    {
     "data": {
      "application/vnd.vegalite.v5+json": {
       "autosize": {
        "contains": "padding",
        "resize": true,
        "type": "fit"
       },
       "data": {
        "values": [
         {
          "category": "manifold-kt",
          "full_test_id": [
           "benchmark-zip",
           "defer",
           "zip-2"
          ],
          "mode": "async",
          "subtest": "zip-2",
          "test": "benchmark-zip",
          "value": 345.19565807021417
         },
         {
          "category": "manifold-kt",
          "full_test_id": [
           "benchmark-zip",
           "defer",
           "zip-5"
          ],
          "mode": "async",
          "subtest": "zip-5",
          "test": "benchmark-zip",
          "value": 770.8383358087044
         },
         {
          "category": "manifold-kt",
          "full_test_id": [
           "benchmark-zip",
           "defer",
           "zip-10"
          ],
          "mode": "async",
          "subtest": "zip-10",
          "test": "benchmark-zip",
          "value": 1447.1557905256664
         },
         {
          "category": "knitty",
          "full_test_id": [
           "benchmark-zip",
           "defer",
           "zip-2"
          ],
          "mode": "async",
          "subtest": "zip-2",
          "test": "benchmark-zip",
          "value": 94.23388288296816
         },
         {
          "category": "knitty",
          "full_test_id": [
           "benchmark-zip",
           "defer",
           "zip-5"
          ],
          "mode": "async",
          "subtest": "zip-5",
          "test": "benchmark-zip",
          "value": 236.72456096890542
         },
         {
          "category": "knitty",
          "full_test_id": [
           "benchmark-zip",
           "defer",
           "zip-10"
          ],
          "mode": "async",
          "subtest": "zip-10",
          "test": "benchmark-zip",
          "value": 509.2458417352776
         },
         {
          "category": "manifold",
          "full_test_id": [
           "benchmark-zip",
           "defer",
           "zip-2"
          ],
          "mode": "async",
          "subtest": "zip-2",
          "test": "benchmark-zip",
          "value": 528.6649611326801
         },
         {
          "category": "manifold",
          "full_test_id": [
           "benchmark-zip",
           "defer",
           "zip-5"
          ],
          "mode": "async",
          "subtest": "zip-5",
          "test": "benchmark-zip",
          "value": 1134.6066746124538
         },
         {
          "category": "manifold",
          "full_test_id": [
           "benchmark-zip",
           "defer",
           "zip-10"
          ],
          "mode": "async",
          "subtest": "zip-10",
          "test": "benchmark-zip",
          "value": 2081.920695667638
         },
         {
          "category": "knitty-md",
          "full_test_id": [
           "benchmark-zip",
           "defer",
           "zip-2"
          ],
          "mode": "async",
          "subtest": "zip-2",
          "test": "benchmark-zip",
          "value": 188.0344424692845
         },
         {
          "category": "knitty-md",
          "full_test_id": [
           "benchmark-zip",
           "defer",
           "zip-5"
          ],
          "mode": "async",
          "subtest": "zip-5",
          "test": "benchmark-zip",
          "value": 573.8064701460944
         },
         {
          "category": "knitty-md",
          "full_test_id": [
           "benchmark-zip",
           "defer",
           "zip-10"
          ],
          "mode": "async",
          "subtest": "zip-10",
          "test": "benchmark-zip",
          "value": 1141.826297371165
         }
        ]
       },
       "encoding": {
        "color": {
         "field": "category",
         "type": "nominal"
        },
        "x": {
         "field": "subtest",
         "sort": null
        },
        "xOffset": {
         "field": "category",
         "sort": [
          "knitty",
          "knitty-md",
          "manifold-kt",
          "manifold"
         ]
        },
        "y": {
         "field": "value",
         "type": "quantitative"
        }
       },
       "height": 400,
       "mark": "bar",
       "title": "benchmark-zip :async"
      },
      "image/png": "[encoded data removed]"
     },
     "metadata": {},
     "output_type": "display_data"
    },
    {
     "data": {
      "text/html": [
       "<h3>test: benchmark-zip-list</h3>"
      ]
     },
     "metadata": {},
     "output_type": "display_data"
    },
    {
     "data": {
      "application/vnd.vegalite.v5+json": {
       "autosize": {
        "contains": "padding",
        "resize": true,
        "type": "fit"
       },
       "data": {
        "values": [
         {
          "category": "manifold-kt",
          "full_test_id": [
           "benchmark-zip-list",
           "value",
           "zip-50"
          ],
          "mode": "sync",
          "subtest": "zip-50",
          "test": "benchmark-zip-list",
          "value": 1119.1636687209289
         },
         {
          "category": "manifold-kt",
          "full_test_id": [
           "benchmark-zip-list",
           "value",
           "zip-500"
          ],
          "mode": "sync",
          "subtest": "zip-500",
          "test": "benchmark-zip-list",
          "value": 10455.419240938272
         },
         {
          "category": "knitty",
          "full_test_id": [
           "benchmark-zip-list",
           "value",
           "zip-50"
          ],
          "mode": "sync",
          "subtest": "zip-50",
          "test": "benchmark-zip-list",
          "value": 945.064404867645
         },
         {
          "category": "knitty",
          "full_test_id": [
           "benchmark-zip-list",
           "value",
           "zip-500"
          ],
          "mode": "sync",
          "subtest": "zip-500",
          "test": "benchmark-zip-list",
          "value": 8905.598294470356
         },
         {
          "category": "manifold",
          "full_test_id": [
           "benchmark-zip-list",
           "value",
           "zip-50"
          ],
          "mode": "sync",
          "subtest": "zip-50",
          "test": "benchmark-zip-list",
          "value": 1213.993782264638
         },
         {
          "category": "manifold",
          "full_test_id": [
           "benchmark-zip-list",
           "value",
           "zip-500"
          ],
          "mode": "sync",
          "subtest": "zip-500",
          "test": "benchmark-zip-list",
          "value": 12048.176465822868
         },
         {
          "category": "knitty-md",
          "full_test_id": [
           "benchmark-zip-list",
           "value",
           "zip-50"
          ],
          "mode": "sync",
          "subtest": "zip-50",
          "test": "benchmark-zip-list",
          "value": 1233.227889593973
         },
         {
          "category": "knitty-md",
          "full_test_id": [
           "benchmark-zip-list",
           "value",
           "zip-500"
          ],
          "mode": "sync",
          "subtest": "zip-500",
          "test": "benchmark-zip-list",
          "value": 11746.456501361225
         }
        ]
       },
       "encoding": {
        "color": {
         "field": "category",
         "type": "nominal"
        },
        "x": {
         "field": "subtest",
         "sort": null
        },
        "xOffset": {
         "field": "category",
         "sort": [
          "knitty",
          "knitty-md",
          "manifold-kt",
          "manifold"
         ]
        },
        "y": {
         "field": "value",
         "type": "quantitative"
        }
       },
       "height": 400,
       "mark": "bar",
       "title": "benchmark-zip-list :sync"
      },
      "image/png": "[encoded data removed]"
     },
     "metadata": {},
     "output_type": "display_data"
    },
    {
     "data": {
      "application/vnd.vegalite.v5+json": {
       "autosize": {
        "contains": "padding",
        "resize": true,
        "type": "fit"
       },
       "data": {
        "values": [
         {
          "category": "manifold-kt",
          "full_test_id": [
           "benchmark-zip-list",
           "defer",
           "zip-50"
          ],
          "mode": "async",
          "subtest": "zip-50",
          "test": "benchmark-zip-list",
          "value": 10005.086247844927
         },
         {
          "category": "manifold-kt",
          "full_test_id": [
           "benchmark-zip-list",
           "defer",
           "zip-500"
          ],
          "mode": "async",
          "subtest": "zip-500",
          "test": "benchmark-zip-list",
          "value": 99714.59584423133
         },
         {
          "category": "knitty",
          "full_test_id": [
           "benchmark-zip-list",
           "defer",
           "zip-50"
          ],
          "mode": "async",
          "subtest": "zip-50",
          "test": "benchmark-zip-list",
          "value": 6105.805219912805
         },
         {
          "category": "knitty",
          "full_test_id": [
           "benchmark-zip-list",
           "defer",
           "zip-500"
          ],
          "mode": "async",
          "subtest": "zip-500",
          "test": "benchmark-zip-list",
          "value": 60320.95305409596
         },
         {
          "category": "manifold",
          "full_test_id": [
           "benchmark-zip-list",
           "defer",
           "zip-50"
          ],
          "mode": "async",
          "subtest": "zip-50",
          "test": "benchmark-zip-list",
          "value": 11939.086494720714
         },
         {
          "category": "manifold",
          "full_test_id": [
           "benchmark-zip-list",
           "defer",
           "zip-500"
          ],
          "mode": "async",
          "subtest": "zip-500",
          "test": "benchmark-zip-list",
          "value": 120802.85553276214
         },
         {
          "category": "knitty-md",
          "full_test_id": [
           "benchmark-zip-list",
           "defer",
           "zip-50"
          ],
          "mode": "async",
          "subtest": "zip-50",
          "test": "benchmark-zip-list",
          "value": 9416.502762871422
         },
         {
          "category": "knitty-md",
          "full_test_id": [
           "benchmark-zip-list",
           "defer",
           "zip-500"
          ],
          "mode": "async",
          "subtest": "zip-500",
          "test": "benchmark-zip-list",
          "value": 95468.20614219338
         }
        ]
       },
       "encoding": {
        "color": {
         "field": "category",
         "type": "nominal"
        },
        "x": {
         "field": "subtest",
         "sort": null
        },
        "xOffset": {
         "field": "category",
         "sort": [
          "knitty",
          "knitty-md",
          "manifold-kt",
          "manifold"
         ]
        },
        "y": {
         "field": "value",
         "type": "quantitative"
        }
       },
       "height": 400,
       "mark": "bar",
       "title": "benchmark-zip-list :async"
      },
      "image/png": "[encoded data removed]"
     },
     "metadata": {},
     "output_type": "display_data"
    },
    {
     "data": {
      "text/html": [
       "<h3>test: benchmark-loop</h3>"
      ]
     },
     "metadata": {},
     "output_type": "display_data"
    },
    {
     "data": {
      "application/vnd.vegalite.v5+json": {
       "autosize": {
        "contains": "padding",
        "resize": true,
        "type": "fit"
       },
       "data": {
        "values": [
         {
          "category": "manifold-kt",
          "full_test_id": [
           "benchmark-loop",
           "value",
           "loop100"
          ],
          "mode": "sync",
          "subtest": "loop100",
          "test": "benchmark-loop",
          "value": 39608.59903033186
         },
         {
          "category": "knitty",
          "full_test_id": [
           "benchmark-loop",
           "value",
           "loop100"
          ],
          "mode": "sync",
          "subtest": "loop100",
          "test": "benchmark-loop",
          "value": 27450.679401545287
         },
         {
          "category": "manifold",
          "full_test_id": [
           "benchmark-loop",
           "value",
           "loop100"
          ],
          "mode": "sync",
          "subtest": "loop100",
          "test": "benchmark-loop",
          "value": 37425.267761712115
         },
         {
          "category": "knitty-md",
          "full_test_id": [
           "benchmark-loop",
           "value",
           "loop100"
          ],
          "mode": "sync",
          "subtest": "loop100",
          "test": "benchmark-loop",
          "value": 32667.66817958944
         }
        ]
       },
       "encoding": {
        "color": {
         "field": "category",
         "type": "nominal"
        },
        "x": {
         "field": "subtest",
         "sort": null
        },
        "xOffset": {
         "field": "category",
         "sort": [
          "knitty",
          "knitty-md",
          "manifold-kt",
          "manifold"
         ]
        },
        "y": {
         "field": "value",
         "type": "quantitative"
        }
       },
       "height": 400,
       "mark": "bar",
       "title": "benchmark-loop :sync"
      },
      "image/png": "[encoded data removed]"
     },
     "metadata": {},
     "output_type": "display_data"
    },
    {
     "data": {
      "application/vnd.vegalite.v5+json": {
       "autosize": {
        "contains": "padding",
        "resize": true,
        "type": "fit"
       },
       "data": {
        "values": [
         {
          "category": "manifold-kt",
          "full_test_id": [
           "benchmark-loop",
           "defer",
           "loop100"
          ],
          "mode": "async",
          "subtest": "loop100",
          "test": "benchmark-loop",
          "value": 280146.5153490328
         },
         {
          "category": "knitty",
          "full_test_id": [
           "benchmark-loop",
           "defer",
           "loop100"
          ],
          "mode": "async",
          "subtest": "loop100",
          "test": "benchmark-loop",
          "value": 72862.68929017236
         },
         {
          "category": "manifold",
          "full_test_id": [
           "benchmark-loop",
           "defer",
           "loop100"
          ],
          "mode": "async",
          "subtest": "loop100",
          "test": "benchmark-loop",
          "value": 300725.85195371206
         },
         {
          "category": "knitty-md",
          "full_test_id": [
           "benchmark-loop",
           "defer",
           "loop100"
          ],
          "mode": "async",
          "subtest": "loop100",
          "test": "benchmark-loop",
          "value": 125637.81986695208
         }
        ]
       },
       "encoding": {
        "color": {
         "field": "category",
         "type": "nominal"
        },
        "x": {
         "field": "subtest",
         "sort": null
        },
        "xOffset": {
         "field": "category",
         "sort": [
          "knitty",
          "knitty-md",
          "manifold-kt",
          "manifold"
         ]
        },
        "y": {
         "field": "value",
         "type": "quantitative"
        }
       },
       "height": 400,
       "mark": "bar",
       "title": "benchmark-loop :async"
      },
      "image/png": "[encoded data removed]"
     },
     "metadata": {},
     "output_type": "display_data"
    },
    {
     "data": {
      "text/plain": [
       "nil"
      ]
     },
     "execution_count": 8,
     "metadata": {},
     "output_type": "execute_result"
    }
   ],
   "source": [
    "(defn render-test [test mode]\n",
    "  (render-test-result\n",
    "   (str test (when mode (str \" \" mode)))\n",
    "   (filter\n",
    "    #(and (= test (:test %))\n",
    "          (= mode (:mode %)))\n",
    "    gdata)))\n",
    "\n",
    "(doseq [t [\n",
    "           \"benchmark-chain\"\n",
    "           \"benchmark-chain-in\"\n",
    "           \"benchmark-chain-err\"\n",
    "           \"benchmark-alt\"\n",
    "           \"benchmark-zip\"\n",
    "           \"benchmark-zip-list\"\n",
    "           \"benchmark-loop\"\n",
    "           ]]\n",
    "  (display/display (display/hiccup-html  [:h3 \"test: \" t]))\n",
    "  (render-test t :sync)\n",
    "  (render-test t :async))"
   ]
  }
 ],
 "metadata": {
  "kernelspec": {
   "display_name": "Clojure (clojupyter-0.5.424)",
   "language": "clojure",
   "name": "clojupyter-0.5.424"
  },
  "language_info": {
   "file_extension": ".clj",
   "mimetype": "text/x-clojure",
   "name": "clojure",
   "version": "1.12.0"
  }
 },
 "nbformat": 4,
 "nbformat_minor": 5
}
